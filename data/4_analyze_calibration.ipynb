{
 "cells": [
  {
   "cell_type": "markdown",
   "metadata": {
    "pycharm": {
     "name": "#%% md\n"
    }
   },
   "source": [
    "# DC Medium Office Metamodel"
   ]
  },
  {
   "cell_type": "code",
   "execution_count": 1,
   "metadata": {
    "pycharm": {
     "is_executing": false,
     "name": "#%% \n"
    }
   },
   "outputs": [],
   "source": [
    "# import libraries\n",
    "\n",
    "import os\n",
    "import pandas as pd\n",
    "import plotly.express as px\n",
    "import json\n",
    "\n",
    "# calibration_results = os.path.join(\"output\", \"calibration_results\")\n",
    "# if not os.path.exists(calibration_results):\n",
    "#     os.makedirs(calibration_results)\n",
    "\n",
    "OPTIMIZE_VERSION = 'v3'\n",
    "BUILDINGS = [\n",
    "    {\n",
    "        \"building_id\": 0,\n",
    "        \"building_address\": \"1146 19th Street\",\n",
    "        \n",
    "    },\n",
    "    {\n",
    "        \"building_id\": 1,\n",
    "        \"building_address\": \"3307 - 3311 M ST NW\",\n",
    "    },\n",
    "    {\n",
    "        \"building_id\": 2,\n",
    "        \"building_address\": \"1235 W Street NE\"\n",
    "    },\n",
    "]"
   ]
  },
  {
   "cell_type": "code",
   "execution_count": 3,
   "metadata": {
    "pycharm": {
     "is_executing": false,
     "name": "#%% \n"
    }
   },
   "outputs": [
    {
     "data": {
      "application/vnd.plotly.v1+json": {
       "config": {
        "plotlyServerURL": "https://plot.ly"
       },
       "data": [
        {
         "hoverlabel": {
          "namelength": 0
         },
         "hovertemplate": "<b>%{hovertext}</b><br><br>electricity_error=%{x}<br>gas_error=%{y}",
         "hovertext": [
          "Index 1, \nLPD 15.830236975337932, \nNoS 2, \nAR 1.4694962696497393, \nHoO Start 7.933339027063846, \nHoO Dur 12.124225053919545",
          "Index 2, \nLPD 17.36135289850843, \nNoS 4, \nAR 1.878002703233164, \nHoO Start 6.992989202452967, \nHoO Dur 12.188987186685416",
          "Index 3, \nLPD 15.737468692463226, \nNoS 5, \nAR 1.7652617512442923, \nHoO Start 9.17695065670272, \nHoO Dur 13.549887316419321",
          "Index 4, \nLPD 13.032104120901826, \nNoS 12, \nAR 1.3259553177582006, \nHoO Start 7.803156251025367, \nHoO Dur 9.293676855106039",
          "Index 5, \nLPD 12.720953832647519, \nNoS 6, \nAR 1.746840113711369, \nHoO Start 9.003535770841136, \nHoO Dur 14.962566023160123",
          "Index 6, \nLPD 1.0909912225797163, \nNoS 12, \nAR 4.675436121311139, \nHoO Start 8.417923511485466, \nHoO Dur 15.855585842785263",
          "Index 7, \nLPD 19.864362627186956, \nNoS 9, \nAR 4.520800577215253, \nHoO Start 9.785283776886233, \nHoO Dur 8.305928631516732",
          "Index 8, \nLPD 7.483695424744658, \nNoS 2, \nAR 3.1779078161705105, \nHoO Start 7.575934242797242, \nHoO Dur 11.627045943054744",
          "Index 9, \nLPD 8.783321598039947, \nNoS 8, \nAR 1.17888980028808, \nHoO Start 7.684117774199615, \nHoO Dur 11.673079905815198",
          "Index 10, \nLPD 4.853810154065965, \nNoS 8, \nAR 4.231139794949534, \nHoO Start 6.406806435779545, \nHoO Dur 13.811970851673612",
          "Index 11, \nLPD 18.88260749031562, \nNoS 10, \nAR 4.463559449886089, \nHoO Start 7.0652661362911795, \nHoO Dur 12.35429505808576",
          "Index 12, \nLPD 6.45081890670418, \nNoS 7, \nAR 3.2740689675529953, \nHoO Start 6.087594174784006, \nHoO Dur 14.156009050711532",
          "Index 13, \nLPD 19.315461698162746, \nNoS 10, \nAR 2.0912163006016775, \nHoO Start 8.822140862285925, \nHoO Dur 13.580213433282141",
          "Index 14, \nLPD 6.106969189596829, \nNoS 12, \nAR 4.129830486357545, \nHoO Start 8.883582826363352, \nHoO Dur 10.839808804104944",
          "Index 15, \nLPD 9.454369441997237, \nNoS 4, \nAR 2.838162155908306, \nHoO Start 6.411882946592037, \nHoO Dur 12.00962156391434",
          "Index 16, \nLPD 18.88260749031562, \nNoS 10, \nAR 4.463559449886089, \nHoO Start 7.0652661362911795, \nHoO Dur 12.35429505808576",
          "Index 17, \nLPD 18.88260749031562, \nNoS 10, \nAR 4.463559449886089, \nHoO Start 7.0652661362911795, \nHoO Dur 12.35429505808576",
          "Index 18, \nLPD 18.88260749031562, \nNoS 2, \nAR 4.463559449886089, \nHoO Start 7.0652661362911795, \nHoO Dur 12.35429505808576",
          "Index 19, \nLPD 7.483695424744658, \nNoS 10, \nAR 3.1779078161705105, \nHoO Start 7.575934242797242, \nHoO Dur 11.627045943054744",
          "Index 20, \nLPD 1.0909912225797163, \nNoS 12, \nAR 4.675436121311139, \nHoO Start 8.417923511485466, \nHoO Dur 15.855585842785263",
          "Index 21, \nLPD 4.853810154065965, \nNoS 8, \nAR 4.231139794949534, \nHoO Start 6.406806435779545, \nHoO Dur 13.811970851673612",
          "Index 22, \nLPD 15.737468692463226, \nNoS 5, \nAR 1.7652617512442923, \nHoO Start 9.17695065670272, \nHoO Dur 13.549887316419321",
          "Index 23, \nLPD 19.864362627186956, \nNoS 9, \nAR 4.520800577215253, \nHoO Start 9.785283776886233, \nHoO Dur 8.305928631516732",
          "Index 24, \nLPD 9.454369441997237, \nNoS 4, \nAR 2.838162155908306, \nHoO Start 6.411882946592037, \nHoO Dur 12.00962156391434",
          "Index 25, \nLPD 4.853810154065965, \nNoS 8, \nAR 4.231139794949534, \nHoO Start 6.406806435779545, \nHoO Dur 13.811970851673612",
          "Index 26, \nLPD 9.454369441997237, \nNoS 10, \nAR 2.838162155908306, \nHoO Start 6.411882946592037, \nHoO Dur 12.00962156391434",
          "Index 27, \nLPD 18.88260749031562, \nNoS 4, \nAR 4.463559449886089, \nHoO Start 7.0652661362911795, \nHoO Dur 12.35429505808576",
          "Index 28, \nLPD 17.36135289850843, \nNoS 4, \nAR 1.878002703233164, \nHoO Start 6.992989202452967, \nHoO Dur 12.188987186685416",
          "Index 29, \nLPD 17.36135289850843, \nNoS 4, \nAR 1.878002703233164, \nHoO Start 6.992989202452967, \nHoO Dur 12.188987186685416",
          "Index 30, \nLPD 8.783321598039947, \nNoS 8, \nAR 1.17888980028808, \nHoO Start 7.684117774199615, \nHoO Dur 11.673079905815198",
          "Index 31, \nLPD 6.45081890670418, \nNoS 7, \nAR 3.2740689675529953, \nHoO Start 6.087594174784006, \nHoO Dur 14.156009050711532"
         ],
         "legendgroup": "",
         "marker": {
          "color": "#636efa",
          "symbol": "circle"
         },
         "mode": "markers",
         "name": "",
         "showlegend": false,
         "type": "scatter",
         "x": [
          203295.35241637682,
          243558.46264342056,
          248576.65774696914,
          257547.913525854,
          246253.46377258038,
          191227.14822514763,
          246949.1153726111,
          236036.82100429165,
          237744.02442951803,
          224152.8888880954,
          232920.6697365226,
          239820.70767090272,
          252785.13517140457,
          271540.0539708965,
          252117.45628351055,
          232920.6697365226,
          232920.6697365226,
          179049.79818383127,
          274607.449175293,
          191227.14822514763,
          224152.8888880954,
          248576.65774696914,
          246949.1153726111,
          252117.45628351055,
          224152.8888880954,
          254345.33942181757,
          227466.26980931812,
          243558.46264342056,
          243558.46264342056,
          237744.02442951803,
          239820.70767090272
         ],
         "xaxis": "x",
         "y": [
          1369.0656769656691,
          2677.7785529702687,
          2431.594631052375,
          2570.31565679079,
          3142.3953532121923,
          3344.4136485990866,
          4500.768244840618,
          1336.985291459472,
          2918.894135598684,
          3000.729139967719,
          2746.8653740532204,
          3060.8879130820087,
          2115.3181176300563,
          2569.5558936549346,
          2685.692319379733,
          2746.8653740532204,
          2746.8653740532204,
          1828.6391320393689,
          2861.216157421327,
          3344.4136485990866,
          3000.729139967719,
          2431.594631052375,
          4500.768244840618,
          2685.692319379733,
          3000.729139967719,
          2686.1658695364363,
          3228.3714754855355,
          2677.7785529702687,
          2677.7785529702687,
          2918.894135598684,
          3060.8879130820087
         ],
         "yaxis": "y"
        }
       ],
       "layout": {
        "height": 800,
        "legend": {
         "tracegroupgap": 0
        },
        "margin": {
         "t": 60
        },
        "template": {
         "data": {
          "bar": [
           {
            "error_x": {
             "color": "#2a3f5f"
            },
            "error_y": {
             "color": "#2a3f5f"
            },
            "marker": {
             "line": {
              "color": "#E5ECF6",
              "width": 0.5
             }
            },
            "type": "bar"
           }
          ],
          "barpolar": [
           {
            "marker": {
             "line": {
              "color": "#E5ECF6",
              "width": 0.5
             }
            },
            "type": "barpolar"
           }
          ],
          "carpet": [
           {
            "aaxis": {
             "endlinecolor": "#2a3f5f",
             "gridcolor": "white",
             "linecolor": "white",
             "minorgridcolor": "white",
             "startlinecolor": "#2a3f5f"
            },
            "baxis": {
             "endlinecolor": "#2a3f5f",
             "gridcolor": "white",
             "linecolor": "white",
             "minorgridcolor": "white",
             "startlinecolor": "#2a3f5f"
            },
            "type": "carpet"
           }
          ],
          "choropleth": [
           {
            "colorbar": {
             "outlinewidth": 0,
             "ticks": ""
            },
            "type": "choropleth"
           }
          ],
          "contour": [
           {
            "colorbar": {
             "outlinewidth": 0,
             "ticks": ""
            },
            "colorscale": [
             [
              0.0,
              "#0d0887"
             ],
             [
              0.1111111111111111,
              "#46039f"
             ],
             [
              0.2222222222222222,
              "#7201a8"
             ],
             [
              0.3333333333333333,
              "#9c179e"
             ],
             [
              0.4444444444444444,
              "#bd3786"
             ],
             [
              0.5555555555555556,
              "#d8576b"
             ],
             [
              0.6666666666666666,
              "#ed7953"
             ],
             [
              0.7777777777777778,
              "#fb9f3a"
             ],
             [
              0.8888888888888888,
              "#fdca26"
             ],
             [
              1.0,
              "#f0f921"
             ]
            ],
            "type": "contour"
           }
          ],
          "contourcarpet": [
           {
            "colorbar": {
             "outlinewidth": 0,
             "ticks": ""
            },
            "type": "contourcarpet"
           }
          ],
          "heatmap": [
           {
            "colorbar": {
             "outlinewidth": 0,
             "ticks": ""
            },
            "colorscale": [
             [
              0.0,
              "#0d0887"
             ],
             [
              0.1111111111111111,
              "#46039f"
             ],
             [
              0.2222222222222222,
              "#7201a8"
             ],
             [
              0.3333333333333333,
              "#9c179e"
             ],
             [
              0.4444444444444444,
              "#bd3786"
             ],
             [
              0.5555555555555556,
              "#d8576b"
             ],
             [
              0.6666666666666666,
              "#ed7953"
             ],
             [
              0.7777777777777778,
              "#fb9f3a"
             ],
             [
              0.8888888888888888,
              "#fdca26"
             ],
             [
              1.0,
              "#f0f921"
             ]
            ],
            "type": "heatmap"
           }
          ],
          "heatmapgl": [
           {
            "colorbar": {
             "outlinewidth": 0,
             "ticks": ""
            },
            "colorscale": [
             [
              0.0,
              "#0d0887"
             ],
             [
              0.1111111111111111,
              "#46039f"
             ],
             [
              0.2222222222222222,
              "#7201a8"
             ],
             [
              0.3333333333333333,
              "#9c179e"
             ],
             [
              0.4444444444444444,
              "#bd3786"
             ],
             [
              0.5555555555555556,
              "#d8576b"
             ],
             [
              0.6666666666666666,
              "#ed7953"
             ],
             [
              0.7777777777777778,
              "#fb9f3a"
             ],
             [
              0.8888888888888888,
              "#fdca26"
             ],
             [
              1.0,
              "#f0f921"
             ]
            ],
            "type": "heatmapgl"
           }
          ],
          "histogram": [
           {
            "marker": {
             "colorbar": {
              "outlinewidth": 0,
              "ticks": ""
             }
            },
            "type": "histogram"
           }
          ],
          "histogram2d": [
           {
            "colorbar": {
             "outlinewidth": 0,
             "ticks": ""
            },
            "colorscale": [
             [
              0.0,
              "#0d0887"
             ],
             [
              0.1111111111111111,
              "#46039f"
             ],
             [
              0.2222222222222222,
              "#7201a8"
             ],
             [
              0.3333333333333333,
              "#9c179e"
             ],
             [
              0.4444444444444444,
              "#bd3786"
             ],
             [
              0.5555555555555556,
              "#d8576b"
             ],
             [
              0.6666666666666666,
              "#ed7953"
             ],
             [
              0.7777777777777778,
              "#fb9f3a"
             ],
             [
              0.8888888888888888,
              "#fdca26"
             ],
             [
              1.0,
              "#f0f921"
             ]
            ],
            "type": "histogram2d"
           }
          ],
          "histogram2dcontour": [
           {
            "colorbar": {
             "outlinewidth": 0,
             "ticks": ""
            },
            "colorscale": [
             [
              0.0,
              "#0d0887"
             ],
             [
              0.1111111111111111,
              "#46039f"
             ],
             [
              0.2222222222222222,
              "#7201a8"
             ],
             [
              0.3333333333333333,
              "#9c179e"
             ],
             [
              0.4444444444444444,
              "#bd3786"
             ],
             [
              0.5555555555555556,
              "#d8576b"
             ],
             [
              0.6666666666666666,
              "#ed7953"
             ],
             [
              0.7777777777777778,
              "#fb9f3a"
             ],
             [
              0.8888888888888888,
              "#fdca26"
             ],
             [
              1.0,
              "#f0f921"
             ]
            ],
            "type": "histogram2dcontour"
           }
          ],
          "mesh3d": [
           {
            "colorbar": {
             "outlinewidth": 0,
             "ticks": ""
            },
            "type": "mesh3d"
           }
          ],
          "parcoords": [
           {
            "line": {
             "colorbar": {
              "outlinewidth": 0,
              "ticks": ""
             }
            },
            "type": "parcoords"
           }
          ],
          "pie": [
           {
            "automargin": true,
            "type": "pie"
           }
          ],
          "scatter": [
           {
            "marker": {
             "colorbar": {
              "outlinewidth": 0,
              "ticks": ""
             }
            },
            "type": "scatter"
           }
          ],
          "scatter3d": [
           {
            "line": {
             "colorbar": {
              "outlinewidth": 0,
              "ticks": ""
             }
            },
            "marker": {
             "colorbar": {
              "outlinewidth": 0,
              "ticks": ""
             }
            },
            "type": "scatter3d"
           }
          ],
          "scattercarpet": [
           {
            "marker": {
             "colorbar": {
              "outlinewidth": 0,
              "ticks": ""
             }
            },
            "type": "scattercarpet"
           }
          ],
          "scattergeo": [
           {
            "marker": {
             "colorbar": {
              "outlinewidth": 0,
              "ticks": ""
             }
            },
            "type": "scattergeo"
           }
          ],
          "scattergl": [
           {
            "marker": {
             "colorbar": {
              "outlinewidth": 0,
              "ticks": ""
             }
            },
            "type": "scattergl"
           }
          ],
          "scattermapbox": [
           {
            "marker": {
             "colorbar": {
              "outlinewidth": 0,
              "ticks": ""
             }
            },
            "type": "scattermapbox"
           }
          ],
          "scatterpolar": [
           {
            "marker": {
             "colorbar": {
              "outlinewidth": 0,
              "ticks": ""
             }
            },
            "type": "scatterpolar"
           }
          ],
          "scatterpolargl": [
           {
            "marker": {
             "colorbar": {
              "outlinewidth": 0,
              "ticks": ""
             }
            },
            "type": "scatterpolargl"
           }
          ],
          "scatterternary": [
           {
            "marker": {
             "colorbar": {
              "outlinewidth": 0,
              "ticks": ""
             }
            },
            "type": "scatterternary"
           }
          ],
          "surface": [
           {
            "colorbar": {
             "outlinewidth": 0,
             "ticks": ""
            },
            "colorscale": [
             [
              0.0,
              "#0d0887"
             ],
             [
              0.1111111111111111,
              "#46039f"
             ],
             [
              0.2222222222222222,
              "#7201a8"
             ],
             [
              0.3333333333333333,
              "#9c179e"
             ],
             [
              0.4444444444444444,
              "#bd3786"
             ],
             [
              0.5555555555555556,
              "#d8576b"
             ],
             [
              0.6666666666666666,
              "#ed7953"
             ],
             [
              0.7777777777777778,
              "#fb9f3a"
             ],
             [
              0.8888888888888888,
              "#fdca26"
             ],
             [
              1.0,
              "#f0f921"
             ]
            ],
            "type": "surface"
           }
          ],
          "table": [
           {
            "cells": {
             "fill": {
              "color": "#EBF0F8"
             },
             "line": {
              "color": "white"
             }
            },
            "header": {
             "fill": {
              "color": "#C8D4E3"
             },
             "line": {
              "color": "white"
             }
            },
            "type": "table"
           }
          ]
         },
         "layout": {
          "annotationdefaults": {
           "arrowcolor": "#2a3f5f",
           "arrowhead": 0,
           "arrowwidth": 1
          },
          "coloraxis": {
           "colorbar": {
            "outlinewidth": 0,
            "ticks": ""
           }
          },
          "colorscale": {
           "diverging": [
            [
             0,
             "#8e0152"
            ],
            [
             0.1,
             "#c51b7d"
            ],
            [
             0.2,
             "#de77ae"
            ],
            [
             0.3,
             "#f1b6da"
            ],
            [
             0.4,
             "#fde0ef"
            ],
            [
             0.5,
             "#f7f7f7"
            ],
            [
             0.6,
             "#e6f5d0"
            ],
            [
             0.7,
             "#b8e186"
            ],
            [
             0.8,
             "#7fbc41"
            ],
            [
             0.9,
             "#4d9221"
            ],
            [
             1,
             "#276419"
            ]
           ],
           "sequential": [
            [
             0.0,
             "#0d0887"
            ],
            [
             0.1111111111111111,
             "#46039f"
            ],
            [
             0.2222222222222222,
             "#7201a8"
            ],
            [
             0.3333333333333333,
             "#9c179e"
            ],
            [
             0.4444444444444444,
             "#bd3786"
            ],
            [
             0.5555555555555556,
             "#d8576b"
            ],
            [
             0.6666666666666666,
             "#ed7953"
            ],
            [
             0.7777777777777778,
             "#fb9f3a"
            ],
            [
             0.8888888888888888,
             "#fdca26"
            ],
            [
             1.0,
             "#f0f921"
            ]
           ],
           "sequentialminus": [
            [
             0.0,
             "#0d0887"
            ],
            [
             0.1111111111111111,
             "#46039f"
            ],
            [
             0.2222222222222222,
             "#7201a8"
            ],
            [
             0.3333333333333333,
             "#9c179e"
            ],
            [
             0.4444444444444444,
             "#bd3786"
            ],
            [
             0.5555555555555556,
             "#d8576b"
            ],
            [
             0.6666666666666666,
             "#ed7953"
            ],
            [
             0.7777777777777778,
             "#fb9f3a"
            ],
            [
             0.8888888888888888,
             "#fdca26"
            ],
            [
             1.0,
             "#f0f921"
            ]
           ]
          },
          "colorway": [
           "#636efa",
           "#EF553B",
           "#00cc96",
           "#ab63fa",
           "#FFA15A",
           "#19d3f3",
           "#FF6692",
           "#B6E880",
           "#FF97FF",
           "#FECB52"
          ],
          "font": {
           "color": "#2a3f5f"
          },
          "geo": {
           "bgcolor": "white",
           "lakecolor": "white",
           "landcolor": "#E5ECF6",
           "showlakes": true,
           "showland": true,
           "subunitcolor": "white"
          },
          "hoverlabel": {
           "align": "left"
          },
          "hovermode": "closest",
          "mapbox": {
           "style": "light"
          },
          "paper_bgcolor": "white",
          "plot_bgcolor": "#E5ECF6",
          "polar": {
           "angularaxis": {
            "gridcolor": "white",
            "linecolor": "white",
            "ticks": ""
           },
           "bgcolor": "#E5ECF6",
           "radialaxis": {
            "gridcolor": "white",
            "linecolor": "white",
            "ticks": ""
           }
          },
          "scene": {
           "xaxis": {
            "backgroundcolor": "#E5ECF6",
            "gridcolor": "white",
            "gridwidth": 2,
            "linecolor": "white",
            "showbackground": true,
            "ticks": "",
            "zerolinecolor": "white"
           },
           "yaxis": {
            "backgroundcolor": "#E5ECF6",
            "gridcolor": "white",
            "gridwidth": 2,
            "linecolor": "white",
            "showbackground": true,
            "ticks": "",
            "zerolinecolor": "white"
           },
           "zaxis": {
            "backgroundcolor": "#E5ECF6",
            "gridcolor": "white",
            "gridwidth": 2,
            "linecolor": "white",
            "showbackground": true,
            "ticks": "",
            "zerolinecolor": "white"
           }
          },
          "shapedefaults": {
           "line": {
            "color": "#2a3f5f"
           }
          },
          "ternary": {
           "aaxis": {
            "gridcolor": "white",
            "linecolor": "white",
            "ticks": ""
           },
           "baxis": {
            "gridcolor": "white",
            "linecolor": "white",
            "ticks": ""
           },
           "bgcolor": "#E5ECF6",
           "caxis": {
            "gridcolor": "white",
            "linecolor": "white",
            "ticks": ""
           }
          },
          "title": {
           "x": 0.05
          },
          "xaxis": {
           "automargin": true,
           "gridcolor": "white",
           "linecolor": "white",
           "ticks": "",
           "title": {
            "standoff": 15
           },
           "zerolinecolor": "white",
           "zerolinewidth": 2
          },
          "yaxis": {
           "automargin": true,
           "gridcolor": "white",
           "linecolor": "white",
           "ticks": "",
           "title": {
            "standoff": 15
           },
           "zerolinecolor": "white",
           "zerolinewidth": 2
          }
         }
        },
        "title": {
         "text": "Building 0 Pareto Front, 1146 19th Street"
        },
        "xaxis": {
         "anchor": "y",
         "domain": [
          0.0,
          1.0
         ],
         "title": {
          "text": "Error in Electricity Calibration"
         }
        },
        "yaxis": {
         "anchor": "x",
         "domain": [
          0.0,
          1.0
         ],
         "title": {
          "text": "Error in Gas Calibration"
         }
        }
       }
      },
      "text/html": "<div>\n        \n        \n            <div id=\"a11c11b8-4afb-4c92-8bfc-92a35fb2666b\" class=\"plotly-graph-div\" style=\"height:800px; width:100%;\"></div>\n            <script type=\"text/javascript\">\n                require([\"plotly\"], function(Plotly) {\n                    window.PLOTLYENV=window.PLOTLYENV || {};\n                    \n                if (document.getElementById(\"a11c11b8-4afb-4c92-8bfc-92a35fb2666b\")) {\n                    Plotly.newPlot(\n                        'a11c11b8-4afb-4c92-8bfc-92a35fb2666b',\n                        [{\"hoverlabel\": {\"namelength\": 0}, \"hovertemplate\": \"<b>%{hovertext}</b><br><br>electricity_error=%{x}<br>gas_error=%{y}\", \"hovertext\": [\"Index 1, \\nLPD 15.830236975337932, \\nNoS 2, \\nAR 1.4694962696497393, \\nHoO Start 7.933339027063846, \\nHoO Dur 12.124225053919545\", \"Index 2, \\nLPD 17.36135289850843, \\nNoS 4, \\nAR 1.878002703233164, \\nHoO Start 6.992989202452967, \\nHoO Dur 12.188987186685416\", \"Index 3, \\nLPD 15.737468692463226, \\nNoS 5, \\nAR 1.7652617512442923, \\nHoO Start 9.17695065670272, \\nHoO Dur 13.549887316419321\", \"Index 4, \\nLPD 13.032104120901826, \\nNoS 12, \\nAR 1.3259553177582006, \\nHoO Start 7.803156251025367, \\nHoO Dur 9.293676855106039\", \"Index 5, \\nLPD 12.720953832647519, \\nNoS 6, \\nAR 1.746840113711369, \\nHoO Start 9.003535770841136, \\nHoO Dur 14.962566023160123\", \"Index 6, \\nLPD 1.0909912225797163, \\nNoS 12, \\nAR 4.675436121311139, \\nHoO Start 8.417923511485466, \\nHoO Dur 15.855585842785263\", \"Index 7, \\nLPD 19.864362627186956, \\nNoS 9, \\nAR 4.520800577215253, \\nHoO Start 9.785283776886233, \\nHoO Dur 8.305928631516732\", \"Index 8, \\nLPD 7.483695424744658, \\nNoS 2, \\nAR 3.1779078161705105, \\nHoO Start 7.575934242797242, \\nHoO Dur 11.627045943054744\", \"Index 9, \\nLPD 8.783321598039947, \\nNoS 8, \\nAR 1.17888980028808, \\nHoO Start 7.684117774199615, \\nHoO Dur 11.673079905815198\", \"Index 10, \\nLPD 4.853810154065965, \\nNoS 8, \\nAR 4.231139794949534, \\nHoO Start 6.406806435779545, \\nHoO Dur 13.811970851673612\", \"Index 11, \\nLPD 18.88260749031562, \\nNoS 10, \\nAR 4.463559449886089, \\nHoO Start 7.0652661362911795, \\nHoO Dur 12.35429505808576\", \"Index 12, \\nLPD 6.45081890670418, \\nNoS 7, \\nAR 3.2740689675529953, \\nHoO Start 6.087594174784006, \\nHoO Dur 14.156009050711532\", \"Index 13, \\nLPD 19.315461698162746, \\nNoS 10, \\nAR 2.0912163006016775, \\nHoO Start 8.822140862285925, \\nHoO Dur 13.580213433282141\", \"Index 14, \\nLPD 6.106969189596829, \\nNoS 12, \\nAR 4.129830486357545, \\nHoO Start 8.883582826363352, \\nHoO Dur 10.839808804104944\", \"Index 15, \\nLPD 9.454369441997237, \\nNoS 4, \\nAR 2.838162155908306, \\nHoO Start 6.411882946592037, \\nHoO Dur 12.00962156391434\", \"Index 16, \\nLPD 18.88260749031562, \\nNoS 10, \\nAR 4.463559449886089, \\nHoO Start 7.0652661362911795, \\nHoO Dur 12.35429505808576\", \"Index 17, \\nLPD 18.88260749031562, \\nNoS 10, \\nAR 4.463559449886089, \\nHoO Start 7.0652661362911795, \\nHoO Dur 12.35429505808576\", \"Index 18, \\nLPD 18.88260749031562, \\nNoS 2, \\nAR 4.463559449886089, \\nHoO Start 7.0652661362911795, \\nHoO Dur 12.35429505808576\", \"Index 19, \\nLPD 7.483695424744658, \\nNoS 10, \\nAR 3.1779078161705105, \\nHoO Start 7.575934242797242, \\nHoO Dur 11.627045943054744\", \"Index 20, \\nLPD 1.0909912225797163, \\nNoS 12, \\nAR 4.675436121311139, \\nHoO Start 8.417923511485466, \\nHoO Dur 15.855585842785263\", \"Index 21, \\nLPD 4.853810154065965, \\nNoS 8, \\nAR 4.231139794949534, \\nHoO Start 6.406806435779545, \\nHoO Dur 13.811970851673612\", \"Index 22, \\nLPD 15.737468692463226, \\nNoS 5, \\nAR 1.7652617512442923, \\nHoO Start 9.17695065670272, \\nHoO Dur 13.549887316419321\", \"Index 23, \\nLPD 19.864362627186956, \\nNoS 9, \\nAR 4.520800577215253, \\nHoO Start 9.785283776886233, \\nHoO Dur 8.305928631516732\", \"Index 24, \\nLPD 9.454369441997237, \\nNoS 4, \\nAR 2.838162155908306, \\nHoO Start 6.411882946592037, \\nHoO Dur 12.00962156391434\", \"Index 25, \\nLPD 4.853810154065965, \\nNoS 8, \\nAR 4.231139794949534, \\nHoO Start 6.406806435779545, \\nHoO Dur 13.811970851673612\", \"Index 26, \\nLPD 9.454369441997237, \\nNoS 10, \\nAR 2.838162155908306, \\nHoO Start 6.411882946592037, \\nHoO Dur 12.00962156391434\", \"Index 27, \\nLPD 18.88260749031562, \\nNoS 4, \\nAR 4.463559449886089, \\nHoO Start 7.0652661362911795, \\nHoO Dur 12.35429505808576\", \"Index 28, \\nLPD 17.36135289850843, \\nNoS 4, \\nAR 1.878002703233164, \\nHoO Start 6.992989202452967, \\nHoO Dur 12.188987186685416\", \"Index 29, \\nLPD 17.36135289850843, \\nNoS 4, \\nAR 1.878002703233164, \\nHoO Start 6.992989202452967, \\nHoO Dur 12.188987186685416\", \"Index 30, \\nLPD 8.783321598039947, \\nNoS 8, \\nAR 1.17888980028808, \\nHoO Start 7.684117774199615, \\nHoO Dur 11.673079905815198\", \"Index 31, \\nLPD 6.45081890670418, \\nNoS 7, \\nAR 3.2740689675529953, \\nHoO Start 6.087594174784006, \\nHoO Dur 14.156009050711532\"], \"legendgroup\": \"\", \"marker\": {\"color\": \"#636efa\", \"symbol\": \"circle\"}, \"mode\": \"markers\", \"name\": \"\", \"showlegend\": false, \"type\": \"scatter\", \"x\": [203295.35241637682, 243558.46264342056, 248576.65774696914, 257547.913525854, 246253.46377258038, 191227.14822514763, 246949.1153726111, 236036.82100429165, 237744.02442951803, 224152.8888880954, 232920.6697365226, 239820.70767090272, 252785.13517140457, 271540.0539708965, 252117.45628351055, 232920.6697365226, 232920.6697365226, 179049.79818383127, 274607.449175293, 191227.14822514763, 224152.8888880954, 248576.65774696914, 246949.1153726111, 252117.45628351055, 224152.8888880954, 254345.33942181757, 227466.26980931812, 243558.46264342056, 243558.46264342056, 237744.02442951803, 239820.70767090272], \"xaxis\": \"x\", \"y\": [1369.0656769656691, 2677.7785529702687, 2431.594631052375, 2570.31565679079, 3142.3953532121923, 3344.4136485990866, 4500.768244840618, 1336.985291459472, 2918.894135598684, 3000.729139967719, 2746.8653740532204, 3060.8879130820087, 2115.3181176300563, 2569.5558936549346, 2685.692319379733, 2746.8653740532204, 2746.8653740532204, 1828.6391320393689, 2861.216157421327, 3344.4136485990866, 3000.729139967719, 2431.594631052375, 4500.768244840618, 2685.692319379733, 3000.729139967719, 2686.1658695364363, 3228.3714754855355, 2677.7785529702687, 2677.7785529702687, 2918.894135598684, 3060.8879130820087], \"yaxis\": \"y\"}],\n                        {\"height\": 800, \"legend\": {\"tracegroupgap\": 0}, \"margin\": {\"t\": 60}, \"template\": {\"data\": {\"bar\": [{\"error_x\": {\"color\": \"#2a3f5f\"}, \"error_y\": {\"color\": \"#2a3f5f\"}, \"marker\": {\"line\": {\"color\": \"#E5ECF6\", \"width\": 0.5}}, \"type\": \"bar\"}], \"barpolar\": [{\"marker\": {\"line\": {\"color\": \"#E5ECF6\", \"width\": 0.5}}, \"type\": \"barpolar\"}], \"carpet\": [{\"aaxis\": {\"endlinecolor\": \"#2a3f5f\", \"gridcolor\": \"white\", \"linecolor\": \"white\", \"minorgridcolor\": \"white\", \"startlinecolor\": \"#2a3f5f\"}, \"baxis\": {\"endlinecolor\": \"#2a3f5f\", \"gridcolor\": \"white\", \"linecolor\": \"white\", \"minorgridcolor\": \"white\", \"startlinecolor\": \"#2a3f5f\"}, \"type\": \"carpet\"}], \"choropleth\": [{\"colorbar\": {\"outlinewidth\": 0, \"ticks\": \"\"}, \"type\": \"choropleth\"}], \"contour\": [{\"colorbar\": {\"outlinewidth\": 0, \"ticks\": \"\"}, \"colorscale\": [[0.0, \"#0d0887\"], [0.1111111111111111, \"#46039f\"], [0.2222222222222222, \"#7201a8\"], [0.3333333333333333, \"#9c179e\"], [0.4444444444444444, \"#bd3786\"], [0.5555555555555556, \"#d8576b\"], [0.6666666666666666, \"#ed7953\"], [0.7777777777777778, \"#fb9f3a\"], [0.8888888888888888, \"#fdca26\"], [1.0, \"#f0f921\"]], \"type\": \"contour\"}], \"contourcarpet\": [{\"colorbar\": {\"outlinewidth\": 0, \"ticks\": \"\"}, \"type\": \"contourcarpet\"}], \"heatmap\": [{\"colorbar\": {\"outlinewidth\": 0, \"ticks\": \"\"}, \"colorscale\": [[0.0, \"#0d0887\"], [0.1111111111111111, \"#46039f\"], [0.2222222222222222, \"#7201a8\"], [0.3333333333333333, \"#9c179e\"], [0.4444444444444444, \"#bd3786\"], [0.5555555555555556, \"#d8576b\"], [0.6666666666666666, \"#ed7953\"], [0.7777777777777778, \"#fb9f3a\"], [0.8888888888888888, \"#fdca26\"], [1.0, \"#f0f921\"]], \"type\": \"heatmap\"}], \"heatmapgl\": [{\"colorbar\": {\"outlinewidth\": 0, \"ticks\": \"\"}, \"colorscale\": [[0.0, \"#0d0887\"], [0.1111111111111111, \"#46039f\"], [0.2222222222222222, \"#7201a8\"], [0.3333333333333333, \"#9c179e\"], [0.4444444444444444, \"#bd3786\"], [0.5555555555555556, \"#d8576b\"], [0.6666666666666666, \"#ed7953\"], [0.7777777777777778, \"#fb9f3a\"], [0.8888888888888888, \"#fdca26\"], [1.0, \"#f0f921\"]], \"type\": \"heatmapgl\"}], \"histogram\": [{\"marker\": {\"colorbar\": {\"outlinewidth\": 0, \"ticks\": \"\"}}, \"type\": \"histogram\"}], \"histogram2d\": [{\"colorbar\": {\"outlinewidth\": 0, \"ticks\": \"\"}, \"colorscale\": [[0.0, \"#0d0887\"], [0.1111111111111111, \"#46039f\"], [0.2222222222222222, \"#7201a8\"], [0.3333333333333333, \"#9c179e\"], [0.4444444444444444, \"#bd3786\"], [0.5555555555555556, \"#d8576b\"], [0.6666666666666666, \"#ed7953\"], [0.7777777777777778, \"#fb9f3a\"], [0.8888888888888888, \"#fdca26\"], [1.0, \"#f0f921\"]], \"type\": \"histogram2d\"}], \"histogram2dcontour\": [{\"colorbar\": {\"outlinewidth\": 0, \"ticks\": \"\"}, \"colorscale\": [[0.0, \"#0d0887\"], [0.1111111111111111, \"#46039f\"], [0.2222222222222222, \"#7201a8\"], [0.3333333333333333, \"#9c179e\"], [0.4444444444444444, \"#bd3786\"], [0.5555555555555556, \"#d8576b\"], [0.6666666666666666, \"#ed7953\"], [0.7777777777777778, \"#fb9f3a\"], [0.8888888888888888, \"#fdca26\"], [1.0, \"#f0f921\"]], \"type\": \"histogram2dcontour\"}], \"mesh3d\": [{\"colorbar\": {\"outlinewidth\": 0, \"ticks\": \"\"}, \"type\": \"mesh3d\"}], \"parcoords\": [{\"line\": {\"colorbar\": {\"outlinewidth\": 0, \"ticks\": \"\"}}, \"type\": \"parcoords\"}], \"pie\": [{\"automargin\": true, \"type\": \"pie\"}], \"scatter\": [{\"marker\": {\"colorbar\": {\"outlinewidth\": 0, \"ticks\": \"\"}}, \"type\": \"scatter\"}], \"scatter3d\": [{\"line\": {\"colorbar\": {\"outlinewidth\": 0, \"ticks\": \"\"}}, \"marker\": {\"colorbar\": {\"outlinewidth\": 0, \"ticks\": \"\"}}, \"type\": \"scatter3d\"}], \"scattercarpet\": [{\"marker\": {\"colorbar\": {\"outlinewidth\": 0, \"ticks\": \"\"}}, \"type\": \"scattercarpet\"}], \"scattergeo\": [{\"marker\": {\"colorbar\": {\"outlinewidth\": 0, \"ticks\": \"\"}}, \"type\": \"scattergeo\"}], \"scattergl\": [{\"marker\": {\"colorbar\": {\"outlinewidth\": 0, \"ticks\": \"\"}}, \"type\": \"scattergl\"}], \"scattermapbox\": [{\"marker\": {\"colorbar\": {\"outlinewidth\": 0, \"ticks\": \"\"}}, \"type\": \"scattermapbox\"}], \"scatterpolar\": [{\"marker\": {\"colorbar\": {\"outlinewidth\": 0, \"ticks\": \"\"}}, \"type\": \"scatterpolar\"}], \"scatterpolargl\": [{\"marker\": {\"colorbar\": {\"outlinewidth\": 0, \"ticks\": \"\"}}, \"type\": \"scatterpolargl\"}], \"scatterternary\": [{\"marker\": {\"colorbar\": {\"outlinewidth\": 0, \"ticks\": \"\"}}, \"type\": \"scatterternary\"}], \"surface\": [{\"colorbar\": {\"outlinewidth\": 0, \"ticks\": \"\"}, \"colorscale\": [[0.0, \"#0d0887\"], [0.1111111111111111, \"#46039f\"], [0.2222222222222222, \"#7201a8\"], [0.3333333333333333, \"#9c179e\"], [0.4444444444444444, \"#bd3786\"], [0.5555555555555556, \"#d8576b\"], [0.6666666666666666, \"#ed7953\"], [0.7777777777777778, \"#fb9f3a\"], [0.8888888888888888, \"#fdca26\"], [1.0, \"#f0f921\"]], \"type\": \"surface\"}], \"table\": [{\"cells\": {\"fill\": {\"color\": \"#EBF0F8\"}, \"line\": {\"color\": \"white\"}}, \"header\": {\"fill\": {\"color\": \"#C8D4E3\"}, \"line\": {\"color\": \"white\"}}, \"type\": \"table\"}]}, \"layout\": {\"annotationdefaults\": {\"arrowcolor\": \"#2a3f5f\", \"arrowhead\": 0, \"arrowwidth\": 1}, \"coloraxis\": {\"colorbar\": {\"outlinewidth\": 0, \"ticks\": \"\"}}, \"colorscale\": {\"diverging\": [[0, \"#8e0152\"], [0.1, \"#c51b7d\"], [0.2, \"#de77ae\"], [0.3, \"#f1b6da\"], [0.4, \"#fde0ef\"], [0.5, \"#f7f7f7\"], [0.6, \"#e6f5d0\"], [0.7, \"#b8e186\"], [0.8, \"#7fbc41\"], [0.9, \"#4d9221\"], [1, \"#276419\"]], \"sequential\": [[0.0, \"#0d0887\"], [0.1111111111111111, \"#46039f\"], [0.2222222222222222, \"#7201a8\"], [0.3333333333333333, \"#9c179e\"], [0.4444444444444444, \"#bd3786\"], [0.5555555555555556, \"#d8576b\"], [0.6666666666666666, \"#ed7953\"], [0.7777777777777778, \"#fb9f3a\"], [0.8888888888888888, \"#fdca26\"], [1.0, \"#f0f921\"]], \"sequentialminus\": [[0.0, \"#0d0887\"], [0.1111111111111111, \"#46039f\"], [0.2222222222222222, \"#7201a8\"], [0.3333333333333333, \"#9c179e\"], [0.4444444444444444, \"#bd3786\"], [0.5555555555555556, \"#d8576b\"], [0.6666666666666666, \"#ed7953\"], [0.7777777777777778, \"#fb9f3a\"], [0.8888888888888888, \"#fdca26\"], [1.0, \"#f0f921\"]]}, \"colorway\": [\"#636efa\", \"#EF553B\", \"#00cc96\", \"#ab63fa\", \"#FFA15A\", \"#19d3f3\", \"#FF6692\", \"#B6E880\", \"#FF97FF\", \"#FECB52\"], \"font\": {\"color\": \"#2a3f5f\"}, \"geo\": {\"bgcolor\": \"white\", \"lakecolor\": \"white\", \"landcolor\": \"#E5ECF6\", \"showlakes\": true, \"showland\": true, \"subunitcolor\": \"white\"}, \"hoverlabel\": {\"align\": \"left\"}, \"hovermode\": \"closest\", \"mapbox\": {\"style\": \"light\"}, \"paper_bgcolor\": \"white\", \"plot_bgcolor\": \"#E5ECF6\", \"polar\": {\"angularaxis\": {\"gridcolor\": \"white\", \"linecolor\": \"white\", \"ticks\": \"\"}, \"bgcolor\": \"#E5ECF6\", \"radialaxis\": {\"gridcolor\": \"white\", \"linecolor\": \"white\", \"ticks\": \"\"}}, \"scene\": {\"xaxis\": {\"backgroundcolor\": \"#E5ECF6\", \"gridcolor\": \"white\", \"gridwidth\": 2, \"linecolor\": \"white\", \"showbackground\": true, \"ticks\": \"\", \"zerolinecolor\": \"white\"}, \"yaxis\": {\"backgroundcolor\": \"#E5ECF6\", \"gridcolor\": \"white\", \"gridwidth\": 2, \"linecolor\": \"white\", \"showbackground\": true, \"ticks\": \"\", \"zerolinecolor\": \"white\"}, \"zaxis\": {\"backgroundcolor\": \"#E5ECF6\", \"gridcolor\": \"white\", \"gridwidth\": 2, \"linecolor\": \"white\", \"showbackground\": true, \"ticks\": \"\", \"zerolinecolor\": \"white\"}}, \"shapedefaults\": {\"line\": {\"color\": \"#2a3f5f\"}}, \"ternary\": {\"aaxis\": {\"gridcolor\": \"white\", \"linecolor\": \"white\", \"ticks\": \"\"}, \"baxis\": {\"gridcolor\": \"white\", \"linecolor\": \"white\", \"ticks\": \"\"}, \"bgcolor\": \"#E5ECF6\", \"caxis\": {\"gridcolor\": \"white\", \"linecolor\": \"white\", \"ticks\": \"\"}}, \"title\": {\"x\": 0.05}, \"xaxis\": {\"automargin\": true, \"gridcolor\": \"white\", \"linecolor\": \"white\", \"ticks\": \"\", \"title\": {\"standoff\": 15}, \"zerolinecolor\": \"white\", \"zerolinewidth\": 2}, \"yaxis\": {\"automargin\": true, \"gridcolor\": \"white\", \"linecolor\": \"white\", \"ticks\": \"\", \"title\": {\"standoff\": 15}, \"zerolinecolor\": \"white\", \"zerolinewidth\": 2}}}, \"title\": {\"text\": \"Building 0 Pareto Front, 1146 19th Street\"}, \"xaxis\": {\"anchor\": \"y\", \"domain\": [0.0, 1.0], \"title\": {\"text\": \"Error in Electricity Calibration\"}}, \"yaxis\": {\"anchor\": \"x\", \"domain\": [0.0, 1.0], \"title\": {\"text\": \"Error in Gas Calibration\"}}},\n                        {\"responsive\": true}\n                    ).then(function(){\n                            \nvar gd = document.getElementById('a11c11b8-4afb-4c92-8bfc-92a35fb2666b');\nvar x = new MutationObserver(function (mutations, observer) {{\n        var display = window.getComputedStyle(gd).display;\n        if (!display || display === 'none') {{\n            console.log([gd, 'removed!']);\n            Plotly.purge(gd);\n            observer.disconnect();\n        }}\n}});\n\n// Listen for the removal of the full notebook cells\nvar notebookContainer = gd.closest('#notebook-container');\nif (notebookContainer) {{\n    x.observe(notebookContainer, {childList: true});\n}}\n\n// Listen for the clearing of the current output cell\nvar outputEl = gd.closest('.output');\nif (outputEl) {{\n    x.observe(outputEl, {childList: true});\n}}\n\n                        })\n                };\n                });\n            </script>\n        </div>"
     },
     "metadata": {},
     "output_type": "display_data"
    },
    {
     "data": {
      "application/vnd.plotly.v1+json": {
       "config": {
        "plotlyServerURL": "https://plot.ly"
       },
       "data": [
        {
         "hoverlabel": {
          "namelength": 0
         },
         "hovertemplate": "<b>%{hovertext}</b><br><br>electricity_error=%{x}<br>gas_error=%{y}",
         "hovertext": [
          "Index 1, \nLPD 15.645470081483126, \nNoS 11, \nAR 3.2636221258220663, \nHoO Start 9.77240168242506, \nHoO Dur 12.214513057650196",
          "Index 2, \nLPD 16.40728201563298, \nNoS 3, \nAR 1.48168390105692, \nHoO Start 6.374773608378941, \nHoO Dur 14.109410796049481",
          "Index 3, \nLPD 6.7133139704404625, \nNoS 2, \nAR 1.956799563777905, \nHoO Start 8.511411738286014, \nHoO Dur 13.860640729114916",
          "Index 4, \nLPD 8.72881794068391, \nNoS 10, \nAR 4.264887859603435, \nHoO Start 8.72973507604255, \nHoO Dur 14.367775523721619",
          "Index 5, \nLPD 11.089828199747311, \nNoS 2, \nAR 3.297530083399504, \nHoO Start 9.160815424361086, \nHoO Dur 13.492728847547792",
          "Index 6, \nLPD 7.22523101211083, \nNoS 6, \nAR 2.515617768975627, \nHoO Start 9.577469371789556, \nHoO Dur 12.638131720091938",
          "Index 7, \nLPD 8.852253703727087, \nNoS 9, \nAR 2.5337164270835904, \nHoO Start 9.271447667778958, \nHoO Dur 10.019247721803168",
          "Index 8, \nLPD 8.197042759052039, \nNoS 3, \nAR 2.1394563270900284, \nHoO Start 6.044212253421918, \nHoO Dur 14.438405419202848",
          "Index 9, \nLPD 2.1812371686796013, \nNoS 4, \nAR 2.8637993691051205, \nHoO Start 8.347748488486701, \nHoO Dur 10.219475863985021",
          "Index 10, \nLPD 11.360636702374475, \nNoS 12, \nAR 1.0149308747851782, \nHoO Start 6.375848746215935, \nHoO Dur 14.530485942128037",
          "Index 11, \nLPD 16.066345318957104, \nNoS 8, \nAR 1.882596114321407, \nHoO Start 7.216336910826074, \nHoO Dur 9.066863268207214",
          "Index 12, \nLPD 19.123577915855666, \nNoS 1, \nAR 4.03769392819577, \nHoO Start 6.169428251084186, \nHoO Dur 11.359691976845134",
          "Index 13, \nLPD 11.106979996186961, \nNoS 8, \nAR 4.469478254563736, \nHoO Start 8.332745886226471, \nHoO Dur 14.53536696796322",
          "Index 14, \nLPD 1.1418935293048684, \nNoS 5, \nAR 2.1079950871657274, \nHoO Start 8.43148114483975, \nHoO Dur 13.352368542358636",
          "Index 15, \nLPD 6.036314952662053, \nNoS 10, \nAR 1.7665773687400144, \nHoO Start 9.839375378309159, \nHoO Dur 9.26544900906713",
          "Index 16, \nLPD 6.7133139704404625, \nNoS 2, \nAR 1.956799563777905, \nHoO Start 8.511411738286014, \nHoO Dur 13.860640729114916",
          "Index 17, \nLPD 8.197042759052039, \nNoS 3, \nAR 2.1394563270900284, \nHoO Start 6.044212253421918, \nHoO Dur 14.438405419202848",
          "Index 18, \nLPD 16.40728201563298, \nNoS 3, \nAR 1.48168390105692, \nHoO Start 6.374773608378941, \nHoO Dur 14.109410796049481",
          "Index 19, \nLPD 11.106979996186961, \nNoS 8, \nAR 4.469478254563736, \nHoO Start 8.332745886226471, \nHoO Dur 14.53536696796322",
          "Index 20, \nLPD 11.106979996186961, \nNoS 8, \nAR 4.469478254563736, \nHoO Start 8.332745886226471, \nHoO Dur 14.53536696796322",
          "Index 21, \nLPD 11.089828199747311, \nNoS 2, \nAR 3.297530083399504, \nHoO Start 9.160815424361086, \nHoO Dur 13.492728847547792",
          "Index 22, \nLPD 16.40728201563298, \nNoS 12, \nAR 1.48168390105692, \nHoO Start 6.374773608378941, \nHoO Dur 14.109410796049481",
          "Index 23, \nLPD 11.360636702374475, \nNoS 3, \nAR 1.0149308747851782, \nHoO Start 6.375848746215935, \nHoO Dur 14.530485942128037",
          "Index 24, \nLPD 7.22523101211083, \nNoS 6, \nAR 2.515617768975627, \nHoO Start 9.577469371789556, \nHoO Dur 12.638131720091938",
          "Index 25, \nLPD 8.72881794068391, \nNoS 10, \nAR 4.264887859603435, \nHoO Start 8.72973507604255, \nHoO Dur 14.367775523721619",
          "Index 26, \nLPD 6.7133139704404625, \nNoS 1, \nAR 1.956799563777905, \nHoO Start 8.511411738286014, \nHoO Dur 13.860640729114916",
          "Index 27, \nLPD 19.123577915855666, \nNoS 2, \nAR 4.03769392819577, \nHoO Start 6.169428251084186, \nHoO Dur 11.359691976845134",
          "Index 28, \nLPD 8.197042759052039, \nNoS 2, \nAR 2.1394563270900284, \nHoO Start 6.044212253421918, \nHoO Dur 14.438405419202848",
          "Index 29, \nLPD 11.089828199747311, \nNoS 3, \nAR 3.297530083399504, \nHoO Start 9.160815424361086, \nHoO Dur 13.492728847547792",
          "Index 30, \nLPD 11.106979996186961, \nNoS 8, \nAR 4.469478254563736, \nHoO Start 8.332745886226471, \nHoO Dur 14.53536696796322",
          "Index 31, \nLPD 11.106979996186961, \nNoS 8, \nAR 4.469478254563736, \nHoO Start 8.332745886226471, \nHoO Dur 14.53536696796322"
         ],
         "legendgroup": "",
         "marker": {
          "color": "#636efa",
          "symbol": "circle"
         },
         "mode": "markers",
         "name": "",
         "showlegend": false,
         "type": "scatter",
         "x": [
          754182.556795121,
          673945.1200851817,
          706373.6139875464,
          744086.8152500844,
          715528.9670527284,
          776288.381347804,
          802314.5376187495,
          694983.818460516,
          800199.1777065414,
          721962.3429966036,
          790034.6518128441,
          665717.8930845507,
          741287.7510116161,
          771683.8510140396,
          783653.1425370007,
          706373.6139875464,
          694983.818460516,
          673945.1200851817,
          741287.7510116161,
          741287.7510116161,
          715528.9670527284,
          725116.4069938317,
          684885.8423318419,
          776288.381347804,
          744086.8152500844,
          706373.6139875464,
          665717.8930845507,
          686054.9637157233,
          724970.2748476139,
          741287.7510116161,
          741287.7510116161
         ],
         "xaxis": "x",
         "y": [
          4010.1914849317345,
          1313.213365897894,
          1242.9035260941082,
          2431.507375000153,
          1200.2345173814276,
          3810.4122058409043,
          3281.9760884729963,
          1502.4385731093053,
          2067.969009719012,
          3153.550589112553,
          3013.7108931471525,
          1798.7688325071617,
          2532.73946575279,
          2138.208158778788,
          4047.870719118265,
          1242.9035260941082,
          1502.4385731093053,
          1313.213365897894,
          2532.73946575279,
          2532.73946575279,
          1200.2345173814276,
          2868.649676231896,
          1551.553294236017,
          3810.4122058409043,
          2431.507375000153,
          1242.9035260941082,
          1798.7688325071617,
          1519.2691308798314,
          1187.9440949634147,
          2532.73946575279,
          2532.73946575279
         ],
         "yaxis": "y"
        }
       ],
       "layout": {
        "height": 800,
        "legend": {
         "tracegroupgap": 0
        },
        "margin": {
         "t": 60
        },
        "template": {
         "data": {
          "bar": [
           {
            "error_x": {
             "color": "#2a3f5f"
            },
            "error_y": {
             "color": "#2a3f5f"
            },
            "marker": {
             "line": {
              "color": "#E5ECF6",
              "width": 0.5
             }
            },
            "type": "bar"
           }
          ],
          "barpolar": [
           {
            "marker": {
             "line": {
              "color": "#E5ECF6",
              "width": 0.5
             }
            },
            "type": "barpolar"
           }
          ],
          "carpet": [
           {
            "aaxis": {
             "endlinecolor": "#2a3f5f",
             "gridcolor": "white",
             "linecolor": "white",
             "minorgridcolor": "white",
             "startlinecolor": "#2a3f5f"
            },
            "baxis": {
             "endlinecolor": "#2a3f5f",
             "gridcolor": "white",
             "linecolor": "white",
             "minorgridcolor": "white",
             "startlinecolor": "#2a3f5f"
            },
            "type": "carpet"
           }
          ],
          "choropleth": [
           {
            "colorbar": {
             "outlinewidth": 0,
             "ticks": ""
            },
            "type": "choropleth"
           }
          ],
          "contour": [
           {
            "colorbar": {
             "outlinewidth": 0,
             "ticks": ""
            },
            "colorscale": [
             [
              0.0,
              "#0d0887"
             ],
             [
              0.1111111111111111,
              "#46039f"
             ],
             [
              0.2222222222222222,
              "#7201a8"
             ],
             [
              0.3333333333333333,
              "#9c179e"
             ],
             [
              0.4444444444444444,
              "#bd3786"
             ],
             [
              0.5555555555555556,
              "#d8576b"
             ],
             [
              0.6666666666666666,
              "#ed7953"
             ],
             [
              0.7777777777777778,
              "#fb9f3a"
             ],
             [
              0.8888888888888888,
              "#fdca26"
             ],
             [
              1.0,
              "#f0f921"
             ]
            ],
            "type": "contour"
           }
          ],
          "contourcarpet": [
           {
            "colorbar": {
             "outlinewidth": 0,
             "ticks": ""
            },
            "type": "contourcarpet"
           }
          ],
          "heatmap": [
           {
            "colorbar": {
             "outlinewidth": 0,
             "ticks": ""
            },
            "colorscale": [
             [
              0.0,
              "#0d0887"
             ],
             [
              0.1111111111111111,
              "#46039f"
             ],
             [
              0.2222222222222222,
              "#7201a8"
             ],
             [
              0.3333333333333333,
              "#9c179e"
             ],
             [
              0.4444444444444444,
              "#bd3786"
             ],
             [
              0.5555555555555556,
              "#d8576b"
             ],
             [
              0.6666666666666666,
              "#ed7953"
             ],
             [
              0.7777777777777778,
              "#fb9f3a"
             ],
             [
              0.8888888888888888,
              "#fdca26"
             ],
             [
              1.0,
              "#f0f921"
             ]
            ],
            "type": "heatmap"
           }
          ],
          "heatmapgl": [
           {
            "colorbar": {
             "outlinewidth": 0,
             "ticks": ""
            },
            "colorscale": [
             [
              0.0,
              "#0d0887"
             ],
             [
              0.1111111111111111,
              "#46039f"
             ],
             [
              0.2222222222222222,
              "#7201a8"
             ],
             [
              0.3333333333333333,
              "#9c179e"
             ],
             [
              0.4444444444444444,
              "#bd3786"
             ],
             [
              0.5555555555555556,
              "#d8576b"
             ],
             [
              0.6666666666666666,
              "#ed7953"
             ],
             [
              0.7777777777777778,
              "#fb9f3a"
             ],
             [
              0.8888888888888888,
              "#fdca26"
             ],
             [
              1.0,
              "#f0f921"
             ]
            ],
            "type": "heatmapgl"
           }
          ],
          "histogram": [
           {
            "marker": {
             "colorbar": {
              "outlinewidth": 0,
              "ticks": ""
             }
            },
            "type": "histogram"
           }
          ],
          "histogram2d": [
           {
            "colorbar": {
             "outlinewidth": 0,
             "ticks": ""
            },
            "colorscale": [
             [
              0.0,
              "#0d0887"
             ],
             [
              0.1111111111111111,
              "#46039f"
             ],
             [
              0.2222222222222222,
              "#7201a8"
             ],
             [
              0.3333333333333333,
              "#9c179e"
             ],
             [
              0.4444444444444444,
              "#bd3786"
             ],
             [
              0.5555555555555556,
              "#d8576b"
             ],
             [
              0.6666666666666666,
              "#ed7953"
             ],
             [
              0.7777777777777778,
              "#fb9f3a"
             ],
             [
              0.8888888888888888,
              "#fdca26"
             ],
             [
              1.0,
              "#f0f921"
             ]
            ],
            "type": "histogram2d"
           }
          ],
          "histogram2dcontour": [
           {
            "colorbar": {
             "outlinewidth": 0,
             "ticks": ""
            },
            "colorscale": [
             [
              0.0,
              "#0d0887"
             ],
             [
              0.1111111111111111,
              "#46039f"
             ],
             [
              0.2222222222222222,
              "#7201a8"
             ],
             [
              0.3333333333333333,
              "#9c179e"
             ],
             [
              0.4444444444444444,
              "#bd3786"
             ],
             [
              0.5555555555555556,
              "#d8576b"
             ],
             [
              0.6666666666666666,
              "#ed7953"
             ],
             [
              0.7777777777777778,
              "#fb9f3a"
             ],
             [
              0.8888888888888888,
              "#fdca26"
             ],
             [
              1.0,
              "#f0f921"
             ]
            ],
            "type": "histogram2dcontour"
           }
          ],
          "mesh3d": [
           {
            "colorbar": {
             "outlinewidth": 0,
             "ticks": ""
            },
            "type": "mesh3d"
           }
          ],
          "parcoords": [
           {
            "line": {
             "colorbar": {
              "outlinewidth": 0,
              "ticks": ""
             }
            },
            "type": "parcoords"
           }
          ],
          "pie": [
           {
            "automargin": true,
            "type": "pie"
           }
          ],
          "scatter": [
           {
            "marker": {
             "colorbar": {
              "outlinewidth": 0,
              "ticks": ""
             }
            },
            "type": "scatter"
           }
          ],
          "scatter3d": [
           {
            "line": {
             "colorbar": {
              "outlinewidth": 0,
              "ticks": ""
             }
            },
            "marker": {
             "colorbar": {
              "outlinewidth": 0,
              "ticks": ""
             }
            },
            "type": "scatter3d"
           }
          ],
          "scattercarpet": [
           {
            "marker": {
             "colorbar": {
              "outlinewidth": 0,
              "ticks": ""
             }
            },
            "type": "scattercarpet"
           }
          ],
          "scattergeo": [
           {
            "marker": {
             "colorbar": {
              "outlinewidth": 0,
              "ticks": ""
             }
            },
            "type": "scattergeo"
           }
          ],
          "scattergl": [
           {
            "marker": {
             "colorbar": {
              "outlinewidth": 0,
              "ticks": ""
             }
            },
            "type": "scattergl"
           }
          ],
          "scattermapbox": [
           {
            "marker": {
             "colorbar": {
              "outlinewidth": 0,
              "ticks": ""
             }
            },
            "type": "scattermapbox"
           }
          ],
          "scatterpolar": [
           {
            "marker": {
             "colorbar": {
              "outlinewidth": 0,
              "ticks": ""
             }
            },
            "type": "scatterpolar"
           }
          ],
          "scatterpolargl": [
           {
            "marker": {
             "colorbar": {
              "outlinewidth": 0,
              "ticks": ""
             }
            },
            "type": "scatterpolargl"
           }
          ],
          "scatterternary": [
           {
            "marker": {
             "colorbar": {
              "outlinewidth": 0,
              "ticks": ""
             }
            },
            "type": "scatterternary"
           }
          ],
          "surface": [
           {
            "colorbar": {
             "outlinewidth": 0,
             "ticks": ""
            },
            "colorscale": [
             [
              0.0,
              "#0d0887"
             ],
             [
              0.1111111111111111,
              "#46039f"
             ],
             [
              0.2222222222222222,
              "#7201a8"
             ],
             [
              0.3333333333333333,
              "#9c179e"
             ],
             [
              0.4444444444444444,
              "#bd3786"
             ],
             [
              0.5555555555555556,
              "#d8576b"
             ],
             [
              0.6666666666666666,
              "#ed7953"
             ],
             [
              0.7777777777777778,
              "#fb9f3a"
             ],
             [
              0.8888888888888888,
              "#fdca26"
             ],
             [
              1.0,
              "#f0f921"
             ]
            ],
            "type": "surface"
           }
          ],
          "table": [
           {
            "cells": {
             "fill": {
              "color": "#EBF0F8"
             },
             "line": {
              "color": "white"
             }
            },
            "header": {
             "fill": {
              "color": "#C8D4E3"
             },
             "line": {
              "color": "white"
             }
            },
            "type": "table"
           }
          ]
         },
         "layout": {
          "annotationdefaults": {
           "arrowcolor": "#2a3f5f",
           "arrowhead": 0,
           "arrowwidth": 1
          },
          "coloraxis": {
           "colorbar": {
            "outlinewidth": 0,
            "ticks": ""
           }
          },
          "colorscale": {
           "diverging": [
            [
             0,
             "#8e0152"
            ],
            [
             0.1,
             "#c51b7d"
            ],
            [
             0.2,
             "#de77ae"
            ],
            [
             0.3,
             "#f1b6da"
            ],
            [
             0.4,
             "#fde0ef"
            ],
            [
             0.5,
             "#f7f7f7"
            ],
            [
             0.6,
             "#e6f5d0"
            ],
            [
             0.7,
             "#b8e186"
            ],
            [
             0.8,
             "#7fbc41"
            ],
            [
             0.9,
             "#4d9221"
            ],
            [
             1,
             "#276419"
            ]
           ],
           "sequential": [
            [
             0.0,
             "#0d0887"
            ],
            [
             0.1111111111111111,
             "#46039f"
            ],
            [
             0.2222222222222222,
             "#7201a8"
            ],
            [
             0.3333333333333333,
             "#9c179e"
            ],
            [
             0.4444444444444444,
             "#bd3786"
            ],
            [
             0.5555555555555556,
             "#d8576b"
            ],
            [
             0.6666666666666666,
             "#ed7953"
            ],
            [
             0.7777777777777778,
             "#fb9f3a"
            ],
            [
             0.8888888888888888,
             "#fdca26"
            ],
            [
             1.0,
             "#f0f921"
            ]
           ],
           "sequentialminus": [
            [
             0.0,
             "#0d0887"
            ],
            [
             0.1111111111111111,
             "#46039f"
            ],
            [
             0.2222222222222222,
             "#7201a8"
            ],
            [
             0.3333333333333333,
             "#9c179e"
            ],
            [
             0.4444444444444444,
             "#bd3786"
            ],
            [
             0.5555555555555556,
             "#d8576b"
            ],
            [
             0.6666666666666666,
             "#ed7953"
            ],
            [
             0.7777777777777778,
             "#fb9f3a"
            ],
            [
             0.8888888888888888,
             "#fdca26"
            ],
            [
             1.0,
             "#f0f921"
            ]
           ]
          },
          "colorway": [
           "#636efa",
           "#EF553B",
           "#00cc96",
           "#ab63fa",
           "#FFA15A",
           "#19d3f3",
           "#FF6692",
           "#B6E880",
           "#FF97FF",
           "#FECB52"
          ],
          "font": {
           "color": "#2a3f5f"
          },
          "geo": {
           "bgcolor": "white",
           "lakecolor": "white",
           "landcolor": "#E5ECF6",
           "showlakes": true,
           "showland": true,
           "subunitcolor": "white"
          },
          "hoverlabel": {
           "align": "left"
          },
          "hovermode": "closest",
          "mapbox": {
           "style": "light"
          },
          "paper_bgcolor": "white",
          "plot_bgcolor": "#E5ECF6",
          "polar": {
           "angularaxis": {
            "gridcolor": "white",
            "linecolor": "white",
            "ticks": ""
           },
           "bgcolor": "#E5ECF6",
           "radialaxis": {
            "gridcolor": "white",
            "linecolor": "white",
            "ticks": ""
           }
          },
          "scene": {
           "xaxis": {
            "backgroundcolor": "#E5ECF6",
            "gridcolor": "white",
            "gridwidth": 2,
            "linecolor": "white",
            "showbackground": true,
            "ticks": "",
            "zerolinecolor": "white"
           },
           "yaxis": {
            "backgroundcolor": "#E5ECF6",
            "gridcolor": "white",
            "gridwidth": 2,
            "linecolor": "white",
            "showbackground": true,
            "ticks": "",
            "zerolinecolor": "white"
           },
           "zaxis": {
            "backgroundcolor": "#E5ECF6",
            "gridcolor": "white",
            "gridwidth": 2,
            "linecolor": "white",
            "showbackground": true,
            "ticks": "",
            "zerolinecolor": "white"
           }
          },
          "shapedefaults": {
           "line": {
            "color": "#2a3f5f"
           }
          },
          "ternary": {
           "aaxis": {
            "gridcolor": "white",
            "linecolor": "white",
            "ticks": ""
           },
           "baxis": {
            "gridcolor": "white",
            "linecolor": "white",
            "ticks": ""
           },
           "bgcolor": "#E5ECF6",
           "caxis": {
            "gridcolor": "white",
            "linecolor": "white",
            "ticks": ""
           }
          },
          "title": {
           "x": 0.05
          },
          "xaxis": {
           "automargin": true,
           "gridcolor": "white",
           "linecolor": "white",
           "ticks": "",
           "title": {
            "standoff": 15
           },
           "zerolinecolor": "white",
           "zerolinewidth": 2
          },
          "yaxis": {
           "automargin": true,
           "gridcolor": "white",
           "linecolor": "white",
           "ticks": "",
           "title": {
            "standoff": 15
           },
           "zerolinecolor": "white",
           "zerolinewidth": 2
          }
         }
        },
        "title": {
         "text": "Building 1 Pareto Front, 3307 - 3311 M ST NW"
        },
        "xaxis": {
         "anchor": "y",
         "domain": [
          0.0,
          1.0
         ],
         "title": {
          "text": "Error in Electricity Calibration"
         }
        },
        "yaxis": {
         "anchor": "x",
         "domain": [
          0.0,
          1.0
         ],
         "title": {
          "text": "Error in Gas Calibration"
         }
        }
       }
      },
      "text/html": "<div>\n        \n        \n            <div id=\"f354824b-3bfc-4e66-9adb-c58809174a32\" class=\"plotly-graph-div\" style=\"height:800px; width:100%;\"></div>\n            <script type=\"text/javascript\">\n                require([\"plotly\"], function(Plotly) {\n                    window.PLOTLYENV=window.PLOTLYENV || {};\n                    \n                if (document.getElementById(\"f354824b-3bfc-4e66-9adb-c58809174a32\")) {\n                    Plotly.newPlot(\n                        'f354824b-3bfc-4e66-9adb-c58809174a32',\n                        [{\"hoverlabel\": {\"namelength\": 0}, \"hovertemplate\": \"<b>%{hovertext}</b><br><br>electricity_error=%{x}<br>gas_error=%{y}\", \"hovertext\": [\"Index 1, \\nLPD 15.645470081483126, \\nNoS 11, \\nAR 3.2636221258220663, \\nHoO Start 9.77240168242506, \\nHoO Dur 12.214513057650196\", \"Index 2, \\nLPD 16.40728201563298, \\nNoS 3, \\nAR 1.48168390105692, \\nHoO Start 6.374773608378941, \\nHoO Dur 14.109410796049481\", \"Index 3, \\nLPD 6.7133139704404625, \\nNoS 2, \\nAR 1.956799563777905, \\nHoO Start 8.511411738286014, \\nHoO Dur 13.860640729114916\", \"Index 4, \\nLPD 8.72881794068391, \\nNoS 10, \\nAR 4.264887859603435, \\nHoO Start 8.72973507604255, \\nHoO Dur 14.367775523721619\", \"Index 5, \\nLPD 11.089828199747311, \\nNoS 2, \\nAR 3.297530083399504, \\nHoO Start 9.160815424361086, \\nHoO Dur 13.492728847547792\", \"Index 6, \\nLPD 7.22523101211083, \\nNoS 6, \\nAR 2.515617768975627, \\nHoO Start 9.577469371789556, \\nHoO Dur 12.638131720091938\", \"Index 7, \\nLPD 8.852253703727087, \\nNoS 9, \\nAR 2.5337164270835904, \\nHoO Start 9.271447667778958, \\nHoO Dur 10.019247721803168\", \"Index 8, \\nLPD 8.197042759052039, \\nNoS 3, \\nAR 2.1394563270900284, \\nHoO Start 6.044212253421918, \\nHoO Dur 14.438405419202848\", \"Index 9, \\nLPD 2.1812371686796013, \\nNoS 4, \\nAR 2.8637993691051205, \\nHoO Start 8.347748488486701, \\nHoO Dur 10.219475863985021\", \"Index 10, \\nLPD 11.360636702374475, \\nNoS 12, \\nAR 1.0149308747851782, \\nHoO Start 6.375848746215935, \\nHoO Dur 14.530485942128037\", \"Index 11, \\nLPD 16.066345318957104, \\nNoS 8, \\nAR 1.882596114321407, \\nHoO Start 7.216336910826074, \\nHoO Dur 9.066863268207214\", \"Index 12, \\nLPD 19.123577915855666, \\nNoS 1, \\nAR 4.03769392819577, \\nHoO Start 6.169428251084186, \\nHoO Dur 11.359691976845134\", \"Index 13, \\nLPD 11.106979996186961, \\nNoS 8, \\nAR 4.469478254563736, \\nHoO Start 8.332745886226471, \\nHoO Dur 14.53536696796322\", \"Index 14, \\nLPD 1.1418935293048684, \\nNoS 5, \\nAR 2.1079950871657274, \\nHoO Start 8.43148114483975, \\nHoO Dur 13.352368542358636\", \"Index 15, \\nLPD 6.036314952662053, \\nNoS 10, \\nAR 1.7665773687400144, \\nHoO Start 9.839375378309159, \\nHoO Dur 9.26544900906713\", \"Index 16, \\nLPD 6.7133139704404625, \\nNoS 2, \\nAR 1.956799563777905, \\nHoO Start 8.511411738286014, \\nHoO Dur 13.860640729114916\", \"Index 17, \\nLPD 8.197042759052039, \\nNoS 3, \\nAR 2.1394563270900284, \\nHoO Start 6.044212253421918, \\nHoO Dur 14.438405419202848\", \"Index 18, \\nLPD 16.40728201563298, \\nNoS 3, \\nAR 1.48168390105692, \\nHoO Start 6.374773608378941, \\nHoO Dur 14.109410796049481\", \"Index 19, \\nLPD 11.106979996186961, \\nNoS 8, \\nAR 4.469478254563736, \\nHoO Start 8.332745886226471, \\nHoO Dur 14.53536696796322\", \"Index 20, \\nLPD 11.106979996186961, \\nNoS 8, \\nAR 4.469478254563736, \\nHoO Start 8.332745886226471, \\nHoO Dur 14.53536696796322\", \"Index 21, \\nLPD 11.089828199747311, \\nNoS 2, \\nAR 3.297530083399504, \\nHoO Start 9.160815424361086, \\nHoO Dur 13.492728847547792\", \"Index 22, \\nLPD 16.40728201563298, \\nNoS 12, \\nAR 1.48168390105692, \\nHoO Start 6.374773608378941, \\nHoO Dur 14.109410796049481\", \"Index 23, \\nLPD 11.360636702374475, \\nNoS 3, \\nAR 1.0149308747851782, \\nHoO Start 6.375848746215935, \\nHoO Dur 14.530485942128037\", \"Index 24, \\nLPD 7.22523101211083, \\nNoS 6, \\nAR 2.515617768975627, \\nHoO Start 9.577469371789556, \\nHoO Dur 12.638131720091938\", \"Index 25, \\nLPD 8.72881794068391, \\nNoS 10, \\nAR 4.264887859603435, \\nHoO Start 8.72973507604255, \\nHoO Dur 14.367775523721619\", \"Index 26, \\nLPD 6.7133139704404625, \\nNoS 1, \\nAR 1.956799563777905, \\nHoO Start 8.511411738286014, \\nHoO Dur 13.860640729114916\", \"Index 27, \\nLPD 19.123577915855666, \\nNoS 2, \\nAR 4.03769392819577, \\nHoO Start 6.169428251084186, \\nHoO Dur 11.359691976845134\", \"Index 28, \\nLPD 8.197042759052039, \\nNoS 2, \\nAR 2.1394563270900284, \\nHoO Start 6.044212253421918, \\nHoO Dur 14.438405419202848\", \"Index 29, \\nLPD 11.089828199747311, \\nNoS 3, \\nAR 3.297530083399504, \\nHoO Start 9.160815424361086, \\nHoO Dur 13.492728847547792\", \"Index 30, \\nLPD 11.106979996186961, \\nNoS 8, \\nAR 4.469478254563736, \\nHoO Start 8.332745886226471, \\nHoO Dur 14.53536696796322\", \"Index 31, \\nLPD 11.106979996186961, \\nNoS 8, \\nAR 4.469478254563736, \\nHoO Start 8.332745886226471, \\nHoO Dur 14.53536696796322\"], \"legendgroup\": \"\", \"marker\": {\"color\": \"#636efa\", \"symbol\": \"circle\"}, \"mode\": \"markers\", \"name\": \"\", \"showlegend\": false, \"type\": \"scatter\", \"x\": [754182.556795121, 673945.1200851817, 706373.6139875464, 744086.8152500844, 715528.9670527284, 776288.381347804, 802314.5376187495, 694983.818460516, 800199.1777065414, 721962.3429966036, 790034.6518128441, 665717.8930845507, 741287.7510116161, 771683.8510140396, 783653.1425370007, 706373.6139875464, 694983.818460516, 673945.1200851817, 741287.7510116161, 741287.7510116161, 715528.9670527284, 725116.4069938317, 684885.8423318419, 776288.381347804, 744086.8152500844, 706373.6139875464, 665717.8930845507, 686054.9637157233, 724970.2748476139, 741287.7510116161, 741287.7510116161], \"xaxis\": \"x\", \"y\": [4010.1914849317345, 1313.213365897894, 1242.9035260941082, 2431.507375000153, 1200.2345173814276, 3810.4122058409043, 3281.9760884729963, 1502.4385731093053, 2067.969009719012, 3153.550589112553, 3013.7108931471525, 1798.7688325071617, 2532.73946575279, 2138.208158778788, 4047.870719118265, 1242.9035260941082, 1502.4385731093053, 1313.213365897894, 2532.73946575279, 2532.73946575279, 1200.2345173814276, 2868.649676231896, 1551.553294236017, 3810.4122058409043, 2431.507375000153, 1242.9035260941082, 1798.7688325071617, 1519.2691308798314, 1187.9440949634147, 2532.73946575279, 2532.73946575279], \"yaxis\": \"y\"}],\n                        {\"height\": 800, \"legend\": {\"tracegroupgap\": 0}, \"margin\": {\"t\": 60}, \"template\": {\"data\": {\"bar\": [{\"error_x\": {\"color\": \"#2a3f5f\"}, \"error_y\": {\"color\": \"#2a3f5f\"}, \"marker\": {\"line\": {\"color\": \"#E5ECF6\", \"width\": 0.5}}, \"type\": \"bar\"}], \"barpolar\": [{\"marker\": {\"line\": {\"color\": \"#E5ECF6\", \"width\": 0.5}}, \"type\": \"barpolar\"}], \"carpet\": [{\"aaxis\": {\"endlinecolor\": \"#2a3f5f\", \"gridcolor\": \"white\", \"linecolor\": \"white\", \"minorgridcolor\": \"white\", \"startlinecolor\": \"#2a3f5f\"}, \"baxis\": {\"endlinecolor\": \"#2a3f5f\", \"gridcolor\": \"white\", \"linecolor\": \"white\", \"minorgridcolor\": \"white\", \"startlinecolor\": \"#2a3f5f\"}, \"type\": \"carpet\"}], \"choropleth\": [{\"colorbar\": {\"outlinewidth\": 0, \"ticks\": \"\"}, \"type\": \"choropleth\"}], \"contour\": [{\"colorbar\": {\"outlinewidth\": 0, \"ticks\": \"\"}, \"colorscale\": [[0.0, \"#0d0887\"], [0.1111111111111111, \"#46039f\"], [0.2222222222222222, \"#7201a8\"], [0.3333333333333333, \"#9c179e\"], [0.4444444444444444, \"#bd3786\"], [0.5555555555555556, \"#d8576b\"], [0.6666666666666666, \"#ed7953\"], [0.7777777777777778, \"#fb9f3a\"], [0.8888888888888888, \"#fdca26\"], [1.0, \"#f0f921\"]], \"type\": \"contour\"}], \"contourcarpet\": [{\"colorbar\": {\"outlinewidth\": 0, \"ticks\": \"\"}, \"type\": \"contourcarpet\"}], \"heatmap\": [{\"colorbar\": {\"outlinewidth\": 0, \"ticks\": \"\"}, \"colorscale\": [[0.0, \"#0d0887\"], [0.1111111111111111, \"#46039f\"], [0.2222222222222222, \"#7201a8\"], [0.3333333333333333, \"#9c179e\"], [0.4444444444444444, \"#bd3786\"], [0.5555555555555556, \"#d8576b\"], [0.6666666666666666, \"#ed7953\"], [0.7777777777777778, \"#fb9f3a\"], [0.8888888888888888, \"#fdca26\"], [1.0, \"#f0f921\"]], \"type\": \"heatmap\"}], \"heatmapgl\": [{\"colorbar\": {\"outlinewidth\": 0, \"ticks\": \"\"}, \"colorscale\": [[0.0, \"#0d0887\"], [0.1111111111111111, \"#46039f\"], [0.2222222222222222, \"#7201a8\"], [0.3333333333333333, \"#9c179e\"], [0.4444444444444444, \"#bd3786\"], [0.5555555555555556, \"#d8576b\"], [0.6666666666666666, \"#ed7953\"], [0.7777777777777778, \"#fb9f3a\"], [0.8888888888888888, \"#fdca26\"], [1.0, \"#f0f921\"]], \"type\": \"heatmapgl\"}], \"histogram\": [{\"marker\": {\"colorbar\": {\"outlinewidth\": 0, \"ticks\": \"\"}}, \"type\": \"histogram\"}], \"histogram2d\": [{\"colorbar\": {\"outlinewidth\": 0, \"ticks\": \"\"}, \"colorscale\": [[0.0, \"#0d0887\"], [0.1111111111111111, \"#46039f\"], [0.2222222222222222, \"#7201a8\"], [0.3333333333333333, \"#9c179e\"], [0.4444444444444444, \"#bd3786\"], [0.5555555555555556, \"#d8576b\"], [0.6666666666666666, \"#ed7953\"], [0.7777777777777778, \"#fb9f3a\"], [0.8888888888888888, \"#fdca26\"], [1.0, \"#f0f921\"]], \"type\": \"histogram2d\"}], \"histogram2dcontour\": [{\"colorbar\": {\"outlinewidth\": 0, \"ticks\": \"\"}, \"colorscale\": [[0.0, \"#0d0887\"], [0.1111111111111111, \"#46039f\"], [0.2222222222222222, \"#7201a8\"], [0.3333333333333333, \"#9c179e\"], [0.4444444444444444, \"#bd3786\"], [0.5555555555555556, \"#d8576b\"], [0.6666666666666666, \"#ed7953\"], [0.7777777777777778, \"#fb9f3a\"], [0.8888888888888888, \"#fdca26\"], [1.0, \"#f0f921\"]], \"type\": \"histogram2dcontour\"}], \"mesh3d\": [{\"colorbar\": {\"outlinewidth\": 0, \"ticks\": \"\"}, \"type\": \"mesh3d\"}], \"parcoords\": [{\"line\": {\"colorbar\": {\"outlinewidth\": 0, \"ticks\": \"\"}}, \"type\": \"parcoords\"}], \"pie\": [{\"automargin\": true, \"type\": \"pie\"}], \"scatter\": [{\"marker\": {\"colorbar\": {\"outlinewidth\": 0, \"ticks\": \"\"}}, \"type\": \"scatter\"}], \"scatter3d\": [{\"line\": {\"colorbar\": {\"outlinewidth\": 0, \"ticks\": \"\"}}, \"marker\": {\"colorbar\": {\"outlinewidth\": 0, \"ticks\": \"\"}}, \"type\": \"scatter3d\"}], \"scattercarpet\": [{\"marker\": {\"colorbar\": {\"outlinewidth\": 0, \"ticks\": \"\"}}, \"type\": \"scattercarpet\"}], \"scattergeo\": [{\"marker\": {\"colorbar\": {\"outlinewidth\": 0, \"ticks\": \"\"}}, \"type\": \"scattergeo\"}], \"scattergl\": [{\"marker\": {\"colorbar\": {\"outlinewidth\": 0, \"ticks\": \"\"}}, \"type\": \"scattergl\"}], \"scattermapbox\": [{\"marker\": {\"colorbar\": {\"outlinewidth\": 0, \"ticks\": \"\"}}, \"type\": \"scattermapbox\"}], \"scatterpolar\": [{\"marker\": {\"colorbar\": {\"outlinewidth\": 0, \"ticks\": \"\"}}, \"type\": \"scatterpolar\"}], \"scatterpolargl\": [{\"marker\": {\"colorbar\": {\"outlinewidth\": 0, \"ticks\": \"\"}}, \"type\": \"scatterpolargl\"}], \"scatterternary\": [{\"marker\": {\"colorbar\": {\"outlinewidth\": 0, \"ticks\": \"\"}}, \"type\": \"scatterternary\"}], \"surface\": [{\"colorbar\": {\"outlinewidth\": 0, \"ticks\": \"\"}, \"colorscale\": [[0.0, \"#0d0887\"], [0.1111111111111111, \"#46039f\"], [0.2222222222222222, \"#7201a8\"], [0.3333333333333333, \"#9c179e\"], [0.4444444444444444, \"#bd3786\"], [0.5555555555555556, \"#d8576b\"], [0.6666666666666666, \"#ed7953\"], [0.7777777777777778, \"#fb9f3a\"], [0.8888888888888888, \"#fdca26\"], [1.0, \"#f0f921\"]], \"type\": \"surface\"}], \"table\": [{\"cells\": {\"fill\": {\"color\": \"#EBF0F8\"}, \"line\": {\"color\": \"white\"}}, \"header\": {\"fill\": {\"color\": \"#C8D4E3\"}, \"line\": {\"color\": \"white\"}}, \"type\": \"table\"}]}, \"layout\": {\"annotationdefaults\": {\"arrowcolor\": \"#2a3f5f\", \"arrowhead\": 0, \"arrowwidth\": 1}, \"coloraxis\": {\"colorbar\": {\"outlinewidth\": 0, \"ticks\": \"\"}}, \"colorscale\": {\"diverging\": [[0, \"#8e0152\"], [0.1, \"#c51b7d\"], [0.2, \"#de77ae\"], [0.3, \"#f1b6da\"], [0.4, \"#fde0ef\"], [0.5, \"#f7f7f7\"], [0.6, \"#e6f5d0\"], [0.7, \"#b8e186\"], [0.8, \"#7fbc41\"], [0.9, \"#4d9221\"], [1, \"#276419\"]], \"sequential\": [[0.0, \"#0d0887\"], [0.1111111111111111, \"#46039f\"], [0.2222222222222222, \"#7201a8\"], [0.3333333333333333, \"#9c179e\"], [0.4444444444444444, \"#bd3786\"], [0.5555555555555556, \"#d8576b\"], [0.6666666666666666, \"#ed7953\"], [0.7777777777777778, \"#fb9f3a\"], [0.8888888888888888, \"#fdca26\"], [1.0, \"#f0f921\"]], \"sequentialminus\": [[0.0, \"#0d0887\"], [0.1111111111111111, \"#46039f\"], [0.2222222222222222, \"#7201a8\"], [0.3333333333333333, \"#9c179e\"], [0.4444444444444444, \"#bd3786\"], [0.5555555555555556, \"#d8576b\"], [0.6666666666666666, \"#ed7953\"], [0.7777777777777778, \"#fb9f3a\"], [0.8888888888888888, \"#fdca26\"], [1.0, \"#f0f921\"]]}, \"colorway\": [\"#636efa\", \"#EF553B\", \"#00cc96\", \"#ab63fa\", \"#FFA15A\", \"#19d3f3\", \"#FF6692\", \"#B6E880\", \"#FF97FF\", \"#FECB52\"], \"font\": {\"color\": \"#2a3f5f\"}, \"geo\": {\"bgcolor\": \"white\", \"lakecolor\": \"white\", \"landcolor\": \"#E5ECF6\", \"showlakes\": true, \"showland\": true, \"subunitcolor\": \"white\"}, \"hoverlabel\": {\"align\": \"left\"}, \"hovermode\": \"closest\", \"mapbox\": {\"style\": \"light\"}, \"paper_bgcolor\": \"white\", \"plot_bgcolor\": \"#E5ECF6\", \"polar\": {\"angularaxis\": {\"gridcolor\": \"white\", \"linecolor\": \"white\", \"ticks\": \"\"}, \"bgcolor\": \"#E5ECF6\", \"radialaxis\": {\"gridcolor\": \"white\", \"linecolor\": \"white\", \"ticks\": \"\"}}, \"scene\": {\"xaxis\": {\"backgroundcolor\": \"#E5ECF6\", \"gridcolor\": \"white\", \"gridwidth\": 2, \"linecolor\": \"white\", \"showbackground\": true, \"ticks\": \"\", \"zerolinecolor\": \"white\"}, \"yaxis\": {\"backgroundcolor\": \"#E5ECF6\", \"gridcolor\": \"white\", \"gridwidth\": 2, \"linecolor\": \"white\", \"showbackground\": true, \"ticks\": \"\", \"zerolinecolor\": \"white\"}, \"zaxis\": {\"backgroundcolor\": \"#E5ECF6\", \"gridcolor\": \"white\", \"gridwidth\": 2, \"linecolor\": \"white\", \"showbackground\": true, \"ticks\": \"\", \"zerolinecolor\": \"white\"}}, \"shapedefaults\": {\"line\": {\"color\": \"#2a3f5f\"}}, \"ternary\": {\"aaxis\": {\"gridcolor\": \"white\", \"linecolor\": \"white\", \"ticks\": \"\"}, \"baxis\": {\"gridcolor\": \"white\", \"linecolor\": \"white\", \"ticks\": \"\"}, \"bgcolor\": \"#E5ECF6\", \"caxis\": {\"gridcolor\": \"white\", \"linecolor\": \"white\", \"ticks\": \"\"}}, \"title\": {\"x\": 0.05}, \"xaxis\": {\"automargin\": true, \"gridcolor\": \"white\", \"linecolor\": \"white\", \"ticks\": \"\", \"title\": {\"standoff\": 15}, \"zerolinecolor\": \"white\", \"zerolinewidth\": 2}, \"yaxis\": {\"automargin\": true, \"gridcolor\": \"white\", \"linecolor\": \"white\", \"ticks\": \"\", \"title\": {\"standoff\": 15}, \"zerolinecolor\": \"white\", \"zerolinewidth\": 2}}}, \"title\": {\"text\": \"Building 1 Pareto Front, 3307 - 3311 M ST NW\"}, \"xaxis\": {\"anchor\": \"y\", \"domain\": [0.0, 1.0], \"title\": {\"text\": \"Error in Electricity Calibration\"}}, \"yaxis\": {\"anchor\": \"x\", \"domain\": [0.0, 1.0], \"title\": {\"text\": \"Error in Gas Calibration\"}}},\n                        {\"responsive\": true}\n                    ).then(function(){\n                            \nvar gd = document.getElementById('f354824b-3bfc-4e66-9adb-c58809174a32');\nvar x = new MutationObserver(function (mutations, observer) {{\n        var display = window.getComputedStyle(gd).display;\n        if (!display || display === 'none') {{\n            console.log([gd, 'removed!']);\n            Plotly.purge(gd);\n            observer.disconnect();\n        }}\n}});\n\n// Listen for the removal of the full notebook cells\nvar notebookContainer = gd.closest('#notebook-container');\nif (notebookContainer) {{\n    x.observe(notebookContainer, {childList: true});\n}}\n\n// Listen for the clearing of the current output cell\nvar outputEl = gd.closest('.output');\nif (outputEl) {{\n    x.observe(outputEl, {childList: true});\n}}\n\n                        })\n                };\n                });\n            </script>\n        </div>"
     },
     "metadata": {},
     "output_type": "display_data"
    },
    {
     "data": {
      "application/vnd.plotly.v1+json": {
       "config": {
        "plotlyServerURL": "https://plot.ly"
       },
       "data": [
        {
         "hoverlabel": {
          "namelength": 0
         },
         "hovertemplate": "<b>%{hovertext}</b><br><br>electricity_error=%{x}<br>gas_error=%{y}",
         "hovertext": [
          "Index 1, \nLPD 7.386202509533145, \nNoS 9, \nAR 4.050817754665601, \nHoO Start 8.25460179494809, \nHoO Dur 9.905056204805817",
          "Index 2, \nLPD 6.942253156265062, \nNoS 6, \nAR 4.512364886191239, \nHoO Start 9.175481370154895, \nHoO Dur 12.794971780441063",
          "Index 3, \nLPD 6.213334607978292, \nNoS 3, \nAR 4.911655603645525, \nHoO Start 8.353591896343238, \nHoO Dur 10.555496256068595",
          "Index 4, \nLPD 18.185683713731446, \nNoS 5, \nAR 1.2816443765296488, \nHoO Start 8.27257847275043, \nHoO Dur 9.52571018640032",
          "Index 5, \nLPD 6.540120493079242, \nNoS 12, \nAR 2.6518236149952954, \nHoO Start 8.243550557515663, \nHoO Dur 11.604868819047383",
          "Index 6, \nLPD 1.5901232423934402, \nNoS 7, \nAR 3.143461895008111, \nHoO Start 9.105526100008529, \nHoO Dur 12.80430055423505",
          "Index 7, \nLPD 14.462251683513887, \nNoS 12, \nAR 2.0458964096802106, \nHoO Start 8.739987509075789, \nHoO Dur 11.723581818996568",
          "Index 8, \nLPD 17.66621427822829, \nNoS 5, \nAR 1.5018039617926777, \nHoO Start 9.509333809141697, \nHoO Dur 8.321140266552266",
          "Index 9, \nLPD 14.319718636521518, \nNoS 3, \nAR 4.1454226586427545, \nHoO Start 9.654640772422137, \nHoO Dur 13.388930510190054",
          "Index 10, \nLPD 17.7921786523978, \nNoS 10, \nAR 2.6051731096011888, \nHoO Start 9.272722237464711, \nHoO Dur 8.8228880659755",
          "Index 11, \nLPD 6.334168457020793, \nNoS 12, \nAR 3.437332386827775, \nHoO Start 7.53122491709108, \nHoO Dur 13.04884808105091",
          "Index 12, \nLPD 12.72407692390495, \nNoS 2, \nAR 3.609726178845568, \nHoO Start 8.359339301648493, \nHoO Dur 8.518815854483657",
          "Index 13, \nLPD 6.498499506942015, \nNoS 12, \nAR 1.6202249680702199, \nHoO Start 8.075008147860041, \nHoO Dur 15.728244161624648",
          "Index 14, \nLPD 11.648306227832569, \nNoS 11, \nAR 4.941147672179863, \nHoO Start 9.918071976476948, \nHoO Dur 9.870864209765017",
          "Index 15, \nLPD 18.127691294153575, \nNoS 5, \nAR 3.2606376819294263, \nHoO Start 8.609977812152403, \nHoO Dur 14.64168342285271",
          "Index 16, \nLPD 6.540120493079242, \nNoS 6, \nAR 2.6518236149952954, \nHoO Start 8.243550557515663, \nHoO Dur 11.604868819047383",
          "Index 17, \nLPD 6.942253156265062, \nNoS 12, \nAR 4.512364886191239, \nHoO Start 9.175481370154895, \nHoO Dur 12.794971780441063",
          "Index 18, \nLPD 18.185683713731446, \nNoS 5, \nAR 1.2816443765296488, \nHoO Start 8.27257847275043, \nHoO Dur 9.52571018640032",
          "Index 19, \nLPD 18.127691294153575, \nNoS 5, \nAR 3.2606376819294263, \nHoO Start 8.609977812152403, \nHoO Dur 14.64168342285271",
          "Index 20, \nLPD 18.127691294153575, \nNoS 3, \nAR 3.2606376819294263, \nHoO Start 8.609977812152403, \nHoO Dur 14.64168342285271",
          "Index 21, \nLPD 14.319718636521518, \nNoS 5, \nAR 4.1454226586427545, \nHoO Start 9.654640772422137, \nHoO Dur 13.388930510190054",
          "Index 22, \nLPD 17.7921786523978, \nNoS 2, \nAR 2.6051731096011888, \nHoO Start 9.272722237464711, \nHoO Dur 8.8228880659755",
          "Index 23, \nLPD 12.72407692390495, \nNoS 10, \nAR 3.609726178845568, \nHoO Start 8.359339301648493, \nHoO Dur 8.518815854483657",
          "Index 24, \nLPD 1.5901232423934402, \nNoS 6, \nAR 3.143461895008111, \nHoO Start 9.105526100008529, \nHoO Dur 12.80430055423505",
          "Index 25, \nLPD 6.942253156265062, \nNoS 7, \nAR 4.512364886191239, \nHoO Start 9.175481370154895, \nHoO Dur 12.794971780441063",
          "Index 26, \nLPD 14.319718636521518, \nNoS 3, \nAR 4.1454226586427545, \nHoO Start 9.654640772422137, \nHoO Dur 13.388930510190054",
          "Index 27, \nLPD 6.498499506942015, \nNoS 12, \nAR 1.6202249680702199, \nHoO Start 8.075008147860041, \nHoO Dur 15.728244161624648",
          "Index 28, \nLPD 6.942253156265062, \nNoS 6, \nAR 4.512364886191239, \nHoO Start 9.175481370154895, \nHoO Dur 12.794971780441063",
          "Index 29, \nLPD 1.5901232423934402, \nNoS 7, \nAR 3.143461895008111, \nHoO Start 9.105526100008529, \nHoO Dur 12.80430055423505",
          "Index 30, \nLPD 11.648306227832569, \nNoS 11, \nAR 4.941147672179863, \nHoO Start 9.918071976476948, \nHoO Dur 9.870864209765017",
          "Index 31, \nLPD 1.5901232423934402, \nNoS 7, \nAR 3.143461895008111, \nHoO Start 9.105526100008529, \nHoO Dur 12.80430055423505"
         ],
         "legendgroup": "",
         "marker": {
          "color": "#636efa",
          "symbol": "circle"
         },
         "mode": "markers",
         "name": "",
         "showlegend": false,
         "type": "scatter",
         "x": [
          123821.45268894953,
          135562.97800797597,
          140274.98990822973,
          147418.6351928464,
          124880.10519720224,
          131399.37897134206,
          128642.52499727468,
          129486.00674886821,
          169780.15203712723,
          129585.47757826821,
          128508.34864454338,
          139517.03987385362,
          176231.15172175784,
          136775.08945896325,
          141648.58551348135,
          124880.10519720224,
          135562.97800797597,
          147418.6351928464,
          141648.58551348135,
          159419.5781414336,
          149319.82603456476,
          155623.1594310499,
          116983.22609830118,
          131399.37897134206,
          135562.97800797597,
          169780.15203712723,
          176231.15172175784,
          135562.97800797597,
          131399.37897134206,
          136775.08945896325,
          131399.37897134206
         ],
         "xaxis": "x",
         "y": [
          3742.7387875483405,
          3781.173447284899,
          4695.768459560518,
          3909.001354746255,
          4153.893812166356,
          4136.991412112984,
          3895.1215845128627,
          3482.2886088373207,
          4524.65273141272,
          3034.9928338493505,
          3674.633271295858,
          4912.924888153706,
          3259.0067295903405,
          2302.8305891045184,
          3519.775686272163,
          4153.893812166356,
          3781.173447284899,
          3909.001354746255,
          3519.775686272163,
          4762.723443459496,
          3132.631491824696,
          4934.082059705637,
          3970.9097461904603,
          4136.991412112984,
          3781.173447284899,
          4524.65273141272,
          3259.0067295903405,
          3781.173447284899,
          4136.991412112984,
          2302.8305891045184,
          4136.991412112984
         ],
         "yaxis": "y"
        }
       ],
       "layout": {
        "height": 800,
        "legend": {
         "tracegroupgap": 0
        },
        "margin": {
         "t": 60
        },
        "template": {
         "data": {
          "bar": [
           {
            "error_x": {
             "color": "#2a3f5f"
            },
            "error_y": {
             "color": "#2a3f5f"
            },
            "marker": {
             "line": {
              "color": "#E5ECF6",
              "width": 0.5
             }
            },
            "type": "bar"
           }
          ],
          "barpolar": [
           {
            "marker": {
             "line": {
              "color": "#E5ECF6",
              "width": 0.5
             }
            },
            "type": "barpolar"
           }
          ],
          "carpet": [
           {
            "aaxis": {
             "endlinecolor": "#2a3f5f",
             "gridcolor": "white",
             "linecolor": "white",
             "minorgridcolor": "white",
             "startlinecolor": "#2a3f5f"
            },
            "baxis": {
             "endlinecolor": "#2a3f5f",
             "gridcolor": "white",
             "linecolor": "white",
             "minorgridcolor": "white",
             "startlinecolor": "#2a3f5f"
            },
            "type": "carpet"
           }
          ],
          "choropleth": [
           {
            "colorbar": {
             "outlinewidth": 0,
             "ticks": ""
            },
            "type": "choropleth"
           }
          ],
          "contour": [
           {
            "colorbar": {
             "outlinewidth": 0,
             "ticks": ""
            },
            "colorscale": [
             [
              0.0,
              "#0d0887"
             ],
             [
              0.1111111111111111,
              "#46039f"
             ],
             [
              0.2222222222222222,
              "#7201a8"
             ],
             [
              0.3333333333333333,
              "#9c179e"
             ],
             [
              0.4444444444444444,
              "#bd3786"
             ],
             [
              0.5555555555555556,
              "#d8576b"
             ],
             [
              0.6666666666666666,
              "#ed7953"
             ],
             [
              0.7777777777777778,
              "#fb9f3a"
             ],
             [
              0.8888888888888888,
              "#fdca26"
             ],
             [
              1.0,
              "#f0f921"
             ]
            ],
            "type": "contour"
           }
          ],
          "contourcarpet": [
           {
            "colorbar": {
             "outlinewidth": 0,
             "ticks": ""
            },
            "type": "contourcarpet"
           }
          ],
          "heatmap": [
           {
            "colorbar": {
             "outlinewidth": 0,
             "ticks": ""
            },
            "colorscale": [
             [
              0.0,
              "#0d0887"
             ],
             [
              0.1111111111111111,
              "#46039f"
             ],
             [
              0.2222222222222222,
              "#7201a8"
             ],
             [
              0.3333333333333333,
              "#9c179e"
             ],
             [
              0.4444444444444444,
              "#bd3786"
             ],
             [
              0.5555555555555556,
              "#d8576b"
             ],
             [
              0.6666666666666666,
              "#ed7953"
             ],
             [
              0.7777777777777778,
              "#fb9f3a"
             ],
             [
              0.8888888888888888,
              "#fdca26"
             ],
             [
              1.0,
              "#f0f921"
             ]
            ],
            "type": "heatmap"
           }
          ],
          "heatmapgl": [
           {
            "colorbar": {
             "outlinewidth": 0,
             "ticks": ""
            },
            "colorscale": [
             [
              0.0,
              "#0d0887"
             ],
             [
              0.1111111111111111,
              "#46039f"
             ],
             [
              0.2222222222222222,
              "#7201a8"
             ],
             [
              0.3333333333333333,
              "#9c179e"
             ],
             [
              0.4444444444444444,
              "#bd3786"
             ],
             [
              0.5555555555555556,
              "#d8576b"
             ],
             [
              0.6666666666666666,
              "#ed7953"
             ],
             [
              0.7777777777777778,
              "#fb9f3a"
             ],
             [
              0.8888888888888888,
              "#fdca26"
             ],
             [
              1.0,
              "#f0f921"
             ]
            ],
            "type": "heatmapgl"
           }
          ],
          "histogram": [
           {
            "marker": {
             "colorbar": {
              "outlinewidth": 0,
              "ticks": ""
             }
            },
            "type": "histogram"
           }
          ],
          "histogram2d": [
           {
            "colorbar": {
             "outlinewidth": 0,
             "ticks": ""
            },
            "colorscale": [
             [
              0.0,
              "#0d0887"
             ],
             [
              0.1111111111111111,
              "#46039f"
             ],
             [
              0.2222222222222222,
              "#7201a8"
             ],
             [
              0.3333333333333333,
              "#9c179e"
             ],
             [
              0.4444444444444444,
              "#bd3786"
             ],
             [
              0.5555555555555556,
              "#d8576b"
             ],
             [
              0.6666666666666666,
              "#ed7953"
             ],
             [
              0.7777777777777778,
              "#fb9f3a"
             ],
             [
              0.8888888888888888,
              "#fdca26"
             ],
             [
              1.0,
              "#f0f921"
             ]
            ],
            "type": "histogram2d"
           }
          ],
          "histogram2dcontour": [
           {
            "colorbar": {
             "outlinewidth": 0,
             "ticks": ""
            },
            "colorscale": [
             [
              0.0,
              "#0d0887"
             ],
             [
              0.1111111111111111,
              "#46039f"
             ],
             [
              0.2222222222222222,
              "#7201a8"
             ],
             [
              0.3333333333333333,
              "#9c179e"
             ],
             [
              0.4444444444444444,
              "#bd3786"
             ],
             [
              0.5555555555555556,
              "#d8576b"
             ],
             [
              0.6666666666666666,
              "#ed7953"
             ],
             [
              0.7777777777777778,
              "#fb9f3a"
             ],
             [
              0.8888888888888888,
              "#fdca26"
             ],
             [
              1.0,
              "#f0f921"
             ]
            ],
            "type": "histogram2dcontour"
           }
          ],
          "mesh3d": [
           {
            "colorbar": {
             "outlinewidth": 0,
             "ticks": ""
            },
            "type": "mesh3d"
           }
          ],
          "parcoords": [
           {
            "line": {
             "colorbar": {
              "outlinewidth": 0,
              "ticks": ""
             }
            },
            "type": "parcoords"
           }
          ],
          "pie": [
           {
            "automargin": true,
            "type": "pie"
           }
          ],
          "scatter": [
           {
            "marker": {
             "colorbar": {
              "outlinewidth": 0,
              "ticks": ""
             }
            },
            "type": "scatter"
           }
          ],
          "scatter3d": [
           {
            "line": {
             "colorbar": {
              "outlinewidth": 0,
              "ticks": ""
             }
            },
            "marker": {
             "colorbar": {
              "outlinewidth": 0,
              "ticks": ""
             }
            },
            "type": "scatter3d"
           }
          ],
          "scattercarpet": [
           {
            "marker": {
             "colorbar": {
              "outlinewidth": 0,
              "ticks": ""
             }
            },
            "type": "scattercarpet"
           }
          ],
          "scattergeo": [
           {
            "marker": {
             "colorbar": {
              "outlinewidth": 0,
              "ticks": ""
             }
            },
            "type": "scattergeo"
           }
          ],
          "scattergl": [
           {
            "marker": {
             "colorbar": {
              "outlinewidth": 0,
              "ticks": ""
             }
            },
            "type": "scattergl"
           }
          ],
          "scattermapbox": [
           {
            "marker": {
             "colorbar": {
              "outlinewidth": 0,
              "ticks": ""
             }
            },
            "type": "scattermapbox"
           }
          ],
          "scatterpolar": [
           {
            "marker": {
             "colorbar": {
              "outlinewidth": 0,
              "ticks": ""
             }
            },
            "type": "scatterpolar"
           }
          ],
          "scatterpolargl": [
           {
            "marker": {
             "colorbar": {
              "outlinewidth": 0,
              "ticks": ""
             }
            },
            "type": "scatterpolargl"
           }
          ],
          "scatterternary": [
           {
            "marker": {
             "colorbar": {
              "outlinewidth": 0,
              "ticks": ""
             }
            },
            "type": "scatterternary"
           }
          ],
          "surface": [
           {
            "colorbar": {
             "outlinewidth": 0,
             "ticks": ""
            },
            "colorscale": [
             [
              0.0,
              "#0d0887"
             ],
             [
              0.1111111111111111,
              "#46039f"
             ],
             [
              0.2222222222222222,
              "#7201a8"
             ],
             [
              0.3333333333333333,
              "#9c179e"
             ],
             [
              0.4444444444444444,
              "#bd3786"
             ],
             [
              0.5555555555555556,
              "#d8576b"
             ],
             [
              0.6666666666666666,
              "#ed7953"
             ],
             [
              0.7777777777777778,
              "#fb9f3a"
             ],
             [
              0.8888888888888888,
              "#fdca26"
             ],
             [
              1.0,
              "#f0f921"
             ]
            ],
            "type": "surface"
           }
          ],
          "table": [
           {
            "cells": {
             "fill": {
              "color": "#EBF0F8"
             },
             "line": {
              "color": "white"
             }
            },
            "header": {
             "fill": {
              "color": "#C8D4E3"
             },
             "line": {
              "color": "white"
             }
            },
            "type": "table"
           }
          ]
         },
         "layout": {
          "annotationdefaults": {
           "arrowcolor": "#2a3f5f",
           "arrowhead": 0,
           "arrowwidth": 1
          },
          "coloraxis": {
           "colorbar": {
            "outlinewidth": 0,
            "ticks": ""
           }
          },
          "colorscale": {
           "diverging": [
            [
             0,
             "#8e0152"
            ],
            [
             0.1,
             "#c51b7d"
            ],
            [
             0.2,
             "#de77ae"
            ],
            [
             0.3,
             "#f1b6da"
            ],
            [
             0.4,
             "#fde0ef"
            ],
            [
             0.5,
             "#f7f7f7"
            ],
            [
             0.6,
             "#e6f5d0"
            ],
            [
             0.7,
             "#b8e186"
            ],
            [
             0.8,
             "#7fbc41"
            ],
            [
             0.9,
             "#4d9221"
            ],
            [
             1,
             "#276419"
            ]
           ],
           "sequential": [
            [
             0.0,
             "#0d0887"
            ],
            [
             0.1111111111111111,
             "#46039f"
            ],
            [
             0.2222222222222222,
             "#7201a8"
            ],
            [
             0.3333333333333333,
             "#9c179e"
            ],
            [
             0.4444444444444444,
             "#bd3786"
            ],
            [
             0.5555555555555556,
             "#d8576b"
            ],
            [
             0.6666666666666666,
             "#ed7953"
            ],
            [
             0.7777777777777778,
             "#fb9f3a"
            ],
            [
             0.8888888888888888,
             "#fdca26"
            ],
            [
             1.0,
             "#f0f921"
            ]
           ],
           "sequentialminus": [
            [
             0.0,
             "#0d0887"
            ],
            [
             0.1111111111111111,
             "#46039f"
            ],
            [
             0.2222222222222222,
             "#7201a8"
            ],
            [
             0.3333333333333333,
             "#9c179e"
            ],
            [
             0.4444444444444444,
             "#bd3786"
            ],
            [
             0.5555555555555556,
             "#d8576b"
            ],
            [
             0.6666666666666666,
             "#ed7953"
            ],
            [
             0.7777777777777778,
             "#fb9f3a"
            ],
            [
             0.8888888888888888,
             "#fdca26"
            ],
            [
             1.0,
             "#f0f921"
            ]
           ]
          },
          "colorway": [
           "#636efa",
           "#EF553B",
           "#00cc96",
           "#ab63fa",
           "#FFA15A",
           "#19d3f3",
           "#FF6692",
           "#B6E880",
           "#FF97FF",
           "#FECB52"
          ],
          "font": {
           "color": "#2a3f5f"
          },
          "geo": {
           "bgcolor": "white",
           "lakecolor": "white",
           "landcolor": "#E5ECF6",
           "showlakes": true,
           "showland": true,
           "subunitcolor": "white"
          },
          "hoverlabel": {
           "align": "left"
          },
          "hovermode": "closest",
          "mapbox": {
           "style": "light"
          },
          "paper_bgcolor": "white",
          "plot_bgcolor": "#E5ECF6",
          "polar": {
           "angularaxis": {
            "gridcolor": "white",
            "linecolor": "white",
            "ticks": ""
           },
           "bgcolor": "#E5ECF6",
           "radialaxis": {
            "gridcolor": "white",
            "linecolor": "white",
            "ticks": ""
           }
          },
          "scene": {
           "xaxis": {
            "backgroundcolor": "#E5ECF6",
            "gridcolor": "white",
            "gridwidth": 2,
            "linecolor": "white",
            "showbackground": true,
            "ticks": "",
            "zerolinecolor": "white"
           },
           "yaxis": {
            "backgroundcolor": "#E5ECF6",
            "gridcolor": "white",
            "gridwidth": 2,
            "linecolor": "white",
            "showbackground": true,
            "ticks": "",
            "zerolinecolor": "white"
           },
           "zaxis": {
            "backgroundcolor": "#E5ECF6",
            "gridcolor": "white",
            "gridwidth": 2,
            "linecolor": "white",
            "showbackground": true,
            "ticks": "",
            "zerolinecolor": "white"
           }
          },
          "shapedefaults": {
           "line": {
            "color": "#2a3f5f"
           }
          },
          "ternary": {
           "aaxis": {
            "gridcolor": "white",
            "linecolor": "white",
            "ticks": ""
           },
           "baxis": {
            "gridcolor": "white",
            "linecolor": "white",
            "ticks": ""
           },
           "bgcolor": "#E5ECF6",
           "caxis": {
            "gridcolor": "white",
            "linecolor": "white",
            "ticks": ""
           }
          },
          "title": {
           "x": 0.05
          },
          "xaxis": {
           "automargin": true,
           "gridcolor": "white",
           "linecolor": "white",
           "ticks": "",
           "title": {
            "standoff": 15
           },
           "zerolinecolor": "white",
           "zerolinewidth": 2
          },
          "yaxis": {
           "automargin": true,
           "gridcolor": "white",
           "linecolor": "white",
           "ticks": "",
           "title": {
            "standoff": 15
           },
           "zerolinecolor": "white",
           "zerolinewidth": 2
          }
         }
        },
        "title": {
         "text": "Building 2 Pareto Front, 1235 W Street NE"
        },
        "xaxis": {
         "anchor": "y",
         "domain": [
          0.0,
          1.0
         ],
         "title": {
          "text": "Error in Electricity Calibration"
         }
        },
        "yaxis": {
         "anchor": "x",
         "domain": [
          0.0,
          1.0
         ],
         "title": {
          "text": "Error in Gas Calibration"
         }
        }
       }
      },
      "text/html": "<div>\n        \n        \n            <div id=\"fb7e9d5b-143e-4904-aff0-4e527985b97e\" class=\"plotly-graph-div\" style=\"height:800px; width:100%;\"></div>\n            <script type=\"text/javascript\">\n                require([\"plotly\"], function(Plotly) {\n                    window.PLOTLYENV=window.PLOTLYENV || {};\n                    \n                if (document.getElementById(\"fb7e9d5b-143e-4904-aff0-4e527985b97e\")) {\n                    Plotly.newPlot(\n                        'fb7e9d5b-143e-4904-aff0-4e527985b97e',\n                        [{\"hoverlabel\": {\"namelength\": 0}, \"hovertemplate\": \"<b>%{hovertext}</b><br><br>electricity_error=%{x}<br>gas_error=%{y}\", \"hovertext\": [\"Index 1, \\nLPD 7.386202509533145, \\nNoS 9, \\nAR 4.050817754665601, \\nHoO Start 8.25460179494809, \\nHoO Dur 9.905056204805817\", \"Index 2, \\nLPD 6.942253156265062, \\nNoS 6, \\nAR 4.512364886191239, \\nHoO Start 9.175481370154895, \\nHoO Dur 12.794971780441063\", \"Index 3, \\nLPD 6.213334607978292, \\nNoS 3, \\nAR 4.911655603645525, \\nHoO Start 8.353591896343238, \\nHoO Dur 10.555496256068595\", \"Index 4, \\nLPD 18.185683713731446, \\nNoS 5, \\nAR 1.2816443765296488, \\nHoO Start 8.27257847275043, \\nHoO Dur 9.52571018640032\", \"Index 5, \\nLPD 6.540120493079242, \\nNoS 12, \\nAR 2.6518236149952954, \\nHoO Start 8.243550557515663, \\nHoO Dur 11.604868819047383\", \"Index 6, \\nLPD 1.5901232423934402, \\nNoS 7, \\nAR 3.143461895008111, \\nHoO Start 9.105526100008529, \\nHoO Dur 12.80430055423505\", \"Index 7, \\nLPD 14.462251683513887, \\nNoS 12, \\nAR 2.0458964096802106, \\nHoO Start 8.739987509075789, \\nHoO Dur 11.723581818996568\", \"Index 8, \\nLPD 17.66621427822829, \\nNoS 5, \\nAR 1.5018039617926777, \\nHoO Start 9.509333809141697, \\nHoO Dur 8.321140266552266\", \"Index 9, \\nLPD 14.319718636521518, \\nNoS 3, \\nAR 4.1454226586427545, \\nHoO Start 9.654640772422137, \\nHoO Dur 13.388930510190054\", \"Index 10, \\nLPD 17.7921786523978, \\nNoS 10, \\nAR 2.6051731096011888, \\nHoO Start 9.272722237464711, \\nHoO Dur 8.8228880659755\", \"Index 11, \\nLPD 6.334168457020793, \\nNoS 12, \\nAR 3.437332386827775, \\nHoO Start 7.53122491709108, \\nHoO Dur 13.04884808105091\", \"Index 12, \\nLPD 12.72407692390495, \\nNoS 2, \\nAR 3.609726178845568, \\nHoO Start 8.359339301648493, \\nHoO Dur 8.518815854483657\", \"Index 13, \\nLPD 6.498499506942015, \\nNoS 12, \\nAR 1.6202249680702199, \\nHoO Start 8.075008147860041, \\nHoO Dur 15.728244161624648\", \"Index 14, \\nLPD 11.648306227832569, \\nNoS 11, \\nAR 4.941147672179863, \\nHoO Start 9.918071976476948, \\nHoO Dur 9.870864209765017\", \"Index 15, \\nLPD 18.127691294153575, \\nNoS 5, \\nAR 3.2606376819294263, \\nHoO Start 8.609977812152403, \\nHoO Dur 14.64168342285271\", \"Index 16, \\nLPD 6.540120493079242, \\nNoS 6, \\nAR 2.6518236149952954, \\nHoO Start 8.243550557515663, \\nHoO Dur 11.604868819047383\", \"Index 17, \\nLPD 6.942253156265062, \\nNoS 12, \\nAR 4.512364886191239, \\nHoO Start 9.175481370154895, \\nHoO Dur 12.794971780441063\", \"Index 18, \\nLPD 18.185683713731446, \\nNoS 5, \\nAR 1.2816443765296488, \\nHoO Start 8.27257847275043, \\nHoO Dur 9.52571018640032\", \"Index 19, \\nLPD 18.127691294153575, \\nNoS 5, \\nAR 3.2606376819294263, \\nHoO Start 8.609977812152403, \\nHoO Dur 14.64168342285271\", \"Index 20, \\nLPD 18.127691294153575, \\nNoS 3, \\nAR 3.2606376819294263, \\nHoO Start 8.609977812152403, \\nHoO Dur 14.64168342285271\", \"Index 21, \\nLPD 14.319718636521518, \\nNoS 5, \\nAR 4.1454226586427545, \\nHoO Start 9.654640772422137, \\nHoO Dur 13.388930510190054\", \"Index 22, \\nLPD 17.7921786523978, \\nNoS 2, \\nAR 2.6051731096011888, \\nHoO Start 9.272722237464711, \\nHoO Dur 8.8228880659755\", \"Index 23, \\nLPD 12.72407692390495, \\nNoS 10, \\nAR 3.609726178845568, \\nHoO Start 8.359339301648493, \\nHoO Dur 8.518815854483657\", \"Index 24, \\nLPD 1.5901232423934402, \\nNoS 6, \\nAR 3.143461895008111, \\nHoO Start 9.105526100008529, \\nHoO Dur 12.80430055423505\", \"Index 25, \\nLPD 6.942253156265062, \\nNoS 7, \\nAR 4.512364886191239, \\nHoO Start 9.175481370154895, \\nHoO Dur 12.794971780441063\", \"Index 26, \\nLPD 14.319718636521518, \\nNoS 3, \\nAR 4.1454226586427545, \\nHoO Start 9.654640772422137, \\nHoO Dur 13.388930510190054\", \"Index 27, \\nLPD 6.498499506942015, \\nNoS 12, \\nAR 1.6202249680702199, \\nHoO Start 8.075008147860041, \\nHoO Dur 15.728244161624648\", \"Index 28, \\nLPD 6.942253156265062, \\nNoS 6, \\nAR 4.512364886191239, \\nHoO Start 9.175481370154895, \\nHoO Dur 12.794971780441063\", \"Index 29, \\nLPD 1.5901232423934402, \\nNoS 7, \\nAR 3.143461895008111, \\nHoO Start 9.105526100008529, \\nHoO Dur 12.80430055423505\", \"Index 30, \\nLPD 11.648306227832569, \\nNoS 11, \\nAR 4.941147672179863, \\nHoO Start 9.918071976476948, \\nHoO Dur 9.870864209765017\", \"Index 31, \\nLPD 1.5901232423934402, \\nNoS 7, \\nAR 3.143461895008111, \\nHoO Start 9.105526100008529, \\nHoO Dur 12.80430055423505\"], \"legendgroup\": \"\", \"marker\": {\"color\": \"#636efa\", \"symbol\": \"circle\"}, \"mode\": \"markers\", \"name\": \"\", \"showlegend\": false, \"type\": \"scatter\", \"x\": [123821.45268894953, 135562.97800797597, 140274.98990822973, 147418.6351928464, 124880.10519720224, 131399.37897134206, 128642.52499727468, 129486.00674886821, 169780.15203712723, 129585.47757826821, 128508.34864454338, 139517.03987385362, 176231.15172175784, 136775.08945896325, 141648.58551348135, 124880.10519720224, 135562.97800797597, 147418.6351928464, 141648.58551348135, 159419.5781414336, 149319.82603456476, 155623.1594310499, 116983.22609830118, 131399.37897134206, 135562.97800797597, 169780.15203712723, 176231.15172175784, 135562.97800797597, 131399.37897134206, 136775.08945896325, 131399.37897134206], \"xaxis\": \"x\", \"y\": [3742.7387875483405, 3781.173447284899, 4695.768459560518, 3909.001354746255, 4153.893812166356, 4136.991412112984, 3895.1215845128627, 3482.2886088373207, 4524.65273141272, 3034.9928338493505, 3674.633271295858, 4912.924888153706, 3259.0067295903405, 2302.8305891045184, 3519.775686272163, 4153.893812166356, 3781.173447284899, 3909.001354746255, 3519.775686272163, 4762.723443459496, 3132.631491824696, 4934.082059705637, 3970.9097461904603, 4136.991412112984, 3781.173447284899, 4524.65273141272, 3259.0067295903405, 3781.173447284899, 4136.991412112984, 2302.8305891045184, 4136.991412112984], \"yaxis\": \"y\"}],\n                        {\"height\": 800, \"legend\": {\"tracegroupgap\": 0}, \"margin\": {\"t\": 60}, \"template\": {\"data\": {\"bar\": [{\"error_x\": {\"color\": \"#2a3f5f\"}, \"error_y\": {\"color\": \"#2a3f5f\"}, \"marker\": {\"line\": {\"color\": \"#E5ECF6\", \"width\": 0.5}}, \"type\": \"bar\"}], \"barpolar\": [{\"marker\": {\"line\": {\"color\": \"#E5ECF6\", \"width\": 0.5}}, \"type\": \"barpolar\"}], \"carpet\": [{\"aaxis\": {\"endlinecolor\": \"#2a3f5f\", \"gridcolor\": \"white\", \"linecolor\": \"white\", \"minorgridcolor\": \"white\", \"startlinecolor\": \"#2a3f5f\"}, \"baxis\": {\"endlinecolor\": \"#2a3f5f\", \"gridcolor\": \"white\", \"linecolor\": \"white\", \"minorgridcolor\": \"white\", \"startlinecolor\": \"#2a3f5f\"}, \"type\": \"carpet\"}], \"choropleth\": [{\"colorbar\": {\"outlinewidth\": 0, \"ticks\": \"\"}, \"type\": \"choropleth\"}], \"contour\": [{\"colorbar\": {\"outlinewidth\": 0, \"ticks\": \"\"}, \"colorscale\": [[0.0, \"#0d0887\"], [0.1111111111111111, \"#46039f\"], [0.2222222222222222, \"#7201a8\"], [0.3333333333333333, \"#9c179e\"], [0.4444444444444444, \"#bd3786\"], [0.5555555555555556, \"#d8576b\"], [0.6666666666666666, \"#ed7953\"], [0.7777777777777778, \"#fb9f3a\"], [0.8888888888888888, \"#fdca26\"], [1.0, \"#f0f921\"]], \"type\": \"contour\"}], \"contourcarpet\": [{\"colorbar\": {\"outlinewidth\": 0, \"ticks\": \"\"}, \"type\": \"contourcarpet\"}], \"heatmap\": [{\"colorbar\": {\"outlinewidth\": 0, \"ticks\": \"\"}, \"colorscale\": [[0.0, \"#0d0887\"], [0.1111111111111111, \"#46039f\"], [0.2222222222222222, \"#7201a8\"], [0.3333333333333333, \"#9c179e\"], [0.4444444444444444, \"#bd3786\"], [0.5555555555555556, \"#d8576b\"], [0.6666666666666666, \"#ed7953\"], [0.7777777777777778, \"#fb9f3a\"], [0.8888888888888888, \"#fdca26\"], [1.0, \"#f0f921\"]], \"type\": \"heatmap\"}], \"heatmapgl\": [{\"colorbar\": {\"outlinewidth\": 0, \"ticks\": \"\"}, \"colorscale\": [[0.0, \"#0d0887\"], [0.1111111111111111, \"#46039f\"], [0.2222222222222222, \"#7201a8\"], [0.3333333333333333, \"#9c179e\"], [0.4444444444444444, \"#bd3786\"], [0.5555555555555556, \"#d8576b\"], [0.6666666666666666, \"#ed7953\"], [0.7777777777777778, \"#fb9f3a\"], [0.8888888888888888, \"#fdca26\"], [1.0, \"#f0f921\"]], \"type\": \"heatmapgl\"}], \"histogram\": [{\"marker\": {\"colorbar\": {\"outlinewidth\": 0, \"ticks\": \"\"}}, \"type\": \"histogram\"}], \"histogram2d\": [{\"colorbar\": {\"outlinewidth\": 0, \"ticks\": \"\"}, \"colorscale\": [[0.0, \"#0d0887\"], [0.1111111111111111, \"#46039f\"], [0.2222222222222222, \"#7201a8\"], [0.3333333333333333, \"#9c179e\"], [0.4444444444444444, \"#bd3786\"], [0.5555555555555556, \"#d8576b\"], [0.6666666666666666, \"#ed7953\"], [0.7777777777777778, \"#fb9f3a\"], [0.8888888888888888, \"#fdca26\"], [1.0, \"#f0f921\"]], \"type\": \"histogram2d\"}], \"histogram2dcontour\": [{\"colorbar\": {\"outlinewidth\": 0, \"ticks\": \"\"}, \"colorscale\": [[0.0, \"#0d0887\"], [0.1111111111111111, \"#46039f\"], [0.2222222222222222, \"#7201a8\"], [0.3333333333333333, \"#9c179e\"], [0.4444444444444444, \"#bd3786\"], [0.5555555555555556, \"#d8576b\"], [0.6666666666666666, \"#ed7953\"], [0.7777777777777778, \"#fb9f3a\"], [0.8888888888888888, \"#fdca26\"], [1.0, \"#f0f921\"]], \"type\": \"histogram2dcontour\"}], \"mesh3d\": [{\"colorbar\": {\"outlinewidth\": 0, \"ticks\": \"\"}, \"type\": \"mesh3d\"}], \"parcoords\": [{\"line\": {\"colorbar\": {\"outlinewidth\": 0, \"ticks\": \"\"}}, \"type\": \"parcoords\"}], \"pie\": [{\"automargin\": true, \"type\": \"pie\"}], \"scatter\": [{\"marker\": {\"colorbar\": {\"outlinewidth\": 0, \"ticks\": \"\"}}, \"type\": \"scatter\"}], \"scatter3d\": [{\"line\": {\"colorbar\": {\"outlinewidth\": 0, \"ticks\": \"\"}}, \"marker\": {\"colorbar\": {\"outlinewidth\": 0, \"ticks\": \"\"}}, \"type\": \"scatter3d\"}], \"scattercarpet\": [{\"marker\": {\"colorbar\": {\"outlinewidth\": 0, \"ticks\": \"\"}}, \"type\": \"scattercarpet\"}], \"scattergeo\": [{\"marker\": {\"colorbar\": {\"outlinewidth\": 0, \"ticks\": \"\"}}, \"type\": \"scattergeo\"}], \"scattergl\": [{\"marker\": {\"colorbar\": {\"outlinewidth\": 0, \"ticks\": \"\"}}, \"type\": \"scattergl\"}], \"scattermapbox\": [{\"marker\": {\"colorbar\": {\"outlinewidth\": 0, \"ticks\": \"\"}}, \"type\": \"scattermapbox\"}], \"scatterpolar\": [{\"marker\": {\"colorbar\": {\"outlinewidth\": 0, \"ticks\": \"\"}}, \"type\": \"scatterpolar\"}], \"scatterpolargl\": [{\"marker\": {\"colorbar\": {\"outlinewidth\": 0, \"ticks\": \"\"}}, \"type\": \"scatterpolargl\"}], \"scatterternary\": [{\"marker\": {\"colorbar\": {\"outlinewidth\": 0, \"ticks\": \"\"}}, \"type\": \"scatterternary\"}], \"surface\": [{\"colorbar\": {\"outlinewidth\": 0, \"ticks\": \"\"}, \"colorscale\": [[0.0, \"#0d0887\"], [0.1111111111111111, \"#46039f\"], [0.2222222222222222, \"#7201a8\"], [0.3333333333333333, \"#9c179e\"], [0.4444444444444444, \"#bd3786\"], [0.5555555555555556, \"#d8576b\"], [0.6666666666666666, \"#ed7953\"], [0.7777777777777778, \"#fb9f3a\"], [0.8888888888888888, \"#fdca26\"], [1.0, \"#f0f921\"]], \"type\": \"surface\"}], \"table\": [{\"cells\": {\"fill\": {\"color\": \"#EBF0F8\"}, \"line\": {\"color\": \"white\"}}, \"header\": {\"fill\": {\"color\": \"#C8D4E3\"}, \"line\": {\"color\": \"white\"}}, \"type\": \"table\"}]}, \"layout\": {\"annotationdefaults\": {\"arrowcolor\": \"#2a3f5f\", \"arrowhead\": 0, \"arrowwidth\": 1}, \"coloraxis\": {\"colorbar\": {\"outlinewidth\": 0, \"ticks\": \"\"}}, \"colorscale\": {\"diverging\": [[0, \"#8e0152\"], [0.1, \"#c51b7d\"], [0.2, \"#de77ae\"], [0.3, \"#f1b6da\"], [0.4, \"#fde0ef\"], [0.5, \"#f7f7f7\"], [0.6, \"#e6f5d0\"], [0.7, \"#b8e186\"], [0.8, \"#7fbc41\"], [0.9, \"#4d9221\"], [1, \"#276419\"]], \"sequential\": [[0.0, \"#0d0887\"], [0.1111111111111111, \"#46039f\"], [0.2222222222222222, \"#7201a8\"], [0.3333333333333333, \"#9c179e\"], [0.4444444444444444, \"#bd3786\"], [0.5555555555555556, \"#d8576b\"], [0.6666666666666666, \"#ed7953\"], [0.7777777777777778, \"#fb9f3a\"], [0.8888888888888888, \"#fdca26\"], [1.0, \"#f0f921\"]], \"sequentialminus\": [[0.0, \"#0d0887\"], [0.1111111111111111, \"#46039f\"], [0.2222222222222222, \"#7201a8\"], [0.3333333333333333, \"#9c179e\"], [0.4444444444444444, \"#bd3786\"], [0.5555555555555556, \"#d8576b\"], [0.6666666666666666, \"#ed7953\"], [0.7777777777777778, \"#fb9f3a\"], [0.8888888888888888, \"#fdca26\"], [1.0, \"#f0f921\"]]}, \"colorway\": [\"#636efa\", \"#EF553B\", \"#00cc96\", \"#ab63fa\", \"#FFA15A\", \"#19d3f3\", \"#FF6692\", \"#B6E880\", \"#FF97FF\", \"#FECB52\"], \"font\": {\"color\": \"#2a3f5f\"}, \"geo\": {\"bgcolor\": \"white\", \"lakecolor\": \"white\", \"landcolor\": \"#E5ECF6\", \"showlakes\": true, \"showland\": true, \"subunitcolor\": \"white\"}, \"hoverlabel\": {\"align\": \"left\"}, \"hovermode\": \"closest\", \"mapbox\": {\"style\": \"light\"}, \"paper_bgcolor\": \"white\", \"plot_bgcolor\": \"#E5ECF6\", \"polar\": {\"angularaxis\": {\"gridcolor\": \"white\", \"linecolor\": \"white\", \"ticks\": \"\"}, \"bgcolor\": \"#E5ECF6\", \"radialaxis\": {\"gridcolor\": \"white\", \"linecolor\": \"white\", \"ticks\": \"\"}}, \"scene\": {\"xaxis\": {\"backgroundcolor\": \"#E5ECF6\", \"gridcolor\": \"white\", \"gridwidth\": 2, \"linecolor\": \"white\", \"showbackground\": true, \"ticks\": \"\", \"zerolinecolor\": \"white\"}, \"yaxis\": {\"backgroundcolor\": \"#E5ECF6\", \"gridcolor\": \"white\", \"gridwidth\": 2, \"linecolor\": \"white\", \"showbackground\": true, \"ticks\": \"\", \"zerolinecolor\": \"white\"}, \"zaxis\": {\"backgroundcolor\": \"#E5ECF6\", \"gridcolor\": \"white\", \"gridwidth\": 2, \"linecolor\": \"white\", \"showbackground\": true, \"ticks\": \"\", \"zerolinecolor\": \"white\"}}, \"shapedefaults\": {\"line\": {\"color\": \"#2a3f5f\"}}, \"ternary\": {\"aaxis\": {\"gridcolor\": \"white\", \"linecolor\": \"white\", \"ticks\": \"\"}, \"baxis\": {\"gridcolor\": \"white\", \"linecolor\": \"white\", \"ticks\": \"\"}, \"bgcolor\": \"#E5ECF6\", \"caxis\": {\"gridcolor\": \"white\", \"linecolor\": \"white\", \"ticks\": \"\"}}, \"title\": {\"x\": 0.05}, \"xaxis\": {\"automargin\": true, \"gridcolor\": \"white\", \"linecolor\": \"white\", \"ticks\": \"\", \"title\": {\"standoff\": 15}, \"zerolinecolor\": \"white\", \"zerolinewidth\": 2}, \"yaxis\": {\"automargin\": true, \"gridcolor\": \"white\", \"linecolor\": \"white\", \"ticks\": \"\", \"title\": {\"standoff\": 15}, \"zerolinecolor\": \"white\", \"zerolinewidth\": 2}}}, \"title\": {\"text\": \"Building 2 Pareto Front, 1235 W Street NE\"}, \"xaxis\": {\"anchor\": \"y\", \"domain\": [0.0, 1.0], \"title\": {\"text\": \"Error in Electricity Calibration\"}}, \"yaxis\": {\"anchor\": \"x\", \"domain\": [0.0, 1.0], \"title\": {\"text\": \"Error in Gas Calibration\"}}},\n                        {\"responsive\": true}\n                    ).then(function(){\n                            \nvar gd = document.getElementById('fb7e9d5b-143e-4904-aff0-4e527985b97e');\nvar x = new MutationObserver(function (mutations, observer) {{\n        var display = window.getComputedStyle(gd).display;\n        if (!display || display === 'none') {{\n            console.log([gd, 'removed!']);\n            Plotly.purge(gd);\n            observer.disconnect();\n        }}\n}});\n\n// Listen for the removal of the full notebook cells\nvar notebookContainer = gd.closest('#notebook-container');\nif (notebookContainer) {{\n    x.observe(notebookContainer, {childList: true});\n}}\n\n// Listen for the clearing of the current output cell\nvar outputEl = gd.closest('.output');\nif (outputEl) {{\n    x.observe(outputEl, {childList: true});\n}}\n\n                        })\n                };\n                });\n            </script>\n        </div>"
     },
     "metadata": {},
     "output_type": "display_data"
    }
   ],
   "source": [
    "for building in BUILDINGS:\n",
    "    # read in the JSON history data\n",
    "    history_path = os.path.join(\n",
    "        'output', f'optimize_{OPTIMIZE_VERSION}', f'building_{building[\"building_id\"]}', 'history.json' \n",
    "    )\n",
    "    data = json.load(open(history_path, 'r'))\n",
    "\n",
    "    # Convert the historic data into a dataframe\n",
    "    # \"lpd\": 15.830236975337932,\n",
    "    #       \"number_of_stories\": 2\n",
    "    #     },\n",
    "    #     \"outputs\": {\n",
    "    #       \"electricity_hat\": 521594.74259882374,\n",
    "    #       \"gas_hat\": 2964.535457082686,\n",
    "    #       \"eui_hat\": 44.09521074390874,\n",
    "    #       \"electricity_error\": 292496.1574011763,\n",
    "    #       \"gas_error\": 2964.535457082686,\n",
    "    #       \"eui_error\": 14.904789256091263\n",
    "    new_data = {\n",
    "        'index': [], \n",
    "        'lpd': [],\n",
    "        'number_of_stories': [],\n",
    "        'aspect_ratio': [],\n",
    "        'hours_of_operation_start': [],\n",
    "        'hours_of_operation_duration': [],\n",
    "        'electricity_error': [],\n",
    "        'gas_error': [],\n",
    "        'eui_error': [],\n",
    "        'hover': []\n",
    "    }\n",
    "    \n",
    "    for j in data:\n",
    "        new_data['index'].append(j['index'])\n",
    "        new_data['lpd'].append(j['inputs']['lpd'])\n",
    "        new_data['number_of_stories'].append(j['inputs']['number_of_stories'])\n",
    "        new_data['aspect_ratio'].append(j['inputs']['aspect_ratio'])\n",
    "        new_data['hours_of_operation_start'].append(j['inputs']['hours_of_operation_start'])\n",
    "        new_data['hours_of_operation_duration'].append(j['inputs']['hours_of_operation_duration'])\n",
    "        new_data['electricity_error'].append(j['outputs']['electricity_error'])\n",
    "        new_data['gas_error'].append(j['outputs']['gas_error'])\n",
    "        new_data['eui_error'].append(j['outputs']['eui_error'])\n",
    "        new_data['hover'].append(f\"Index {j['index']}, \\n\"\n",
    "                                 f\"LPD {j['inputs']['lpd']}, \\n\"\n",
    "                                 f\"NoS {j['inputs']['number_of_stories']}, \\n\"\n",
    "                                 f\"AR {j['inputs']['aspect_ratio']}, \\n\"\n",
    "                                 f\"HoO Start {j['inputs']['hours_of_operation_start']}, \\n\"\n",
    "                                 f\"HoO Dur {j['inputs']['hours_of_operation_duration']}\"\n",
    "                                )    \n",
    "    df = pd.DataFrame(new_data)\n",
    "\n",
    "    # create the inline figure so that we can select which ID to use\n",
    "    fig = px.scatter(\n",
    "        df, x=\"electricity_error\", y=\"gas_error\", size_max=60, hover_name='hover'\n",
    "    )\n",
    "    \n",
    "    fig.update_layout(\n",
    "        height=800,\n",
    "        title_text=f'Building {building[\"building_id\"]} Pareto Front, {building[\"building_address\"]}',\n",
    "        xaxis_title_text=f\"Error in Electricity Calibration\",\n",
    "        yaxis_title_text='Error in Gas Calibration',\n",
    "    )\n",
    "    \n",
    "    fig.show()"
   ]
  },
  {
   "cell_type": "code",
   "execution_count": null,
   "outputs": [],
   "source": [
    "\n"
   ],
   "metadata": {
    "collapsed": false,
    "pycharm": {
     "name": "#%%\n"
    }
   }
  }
 ],
 "metadata": {
  "kernelspec": {
   "display_name": "Python 3",
   "language": "python",
   "name": "python3"
  },
  "language_info": {
   "codemirror_mode": {
    "name": "ipython",
    "version": 3
   },
   "file_extension": ".py",
   "mimetype": "text/x-python",
   "name": "python",
   "nbconvert_exporter": "python",
   "pygments_lexer": "ipython3",
   "version": "3.7.5"
  },
  "pycharm": {
   "stem_cell": {
    "cell_type": "raw",
    "source": [],
    "metadata": {
     "collapsed": false
    }
   }
  }
 },
 "nbformat": 4,
 "nbformat_minor": 2
}